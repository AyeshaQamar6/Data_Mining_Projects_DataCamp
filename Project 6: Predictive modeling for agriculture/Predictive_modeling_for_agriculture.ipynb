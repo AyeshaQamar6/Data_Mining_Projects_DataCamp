{
  "nbformat": 4,
  "nbformat_minor": 0,
  "metadata": {
    "colab": {
      "provenance": []
    },
    "kernelspec": {
      "name": "python3",
      "display_name": "Python 3"
    },
    "language_info": {
      "name": "python"
    }
  },
  "cells": [
    {
      "cell_type": "code",
      "execution_count": 1,
      "metadata": {
        "id": "EizBaljIm15i"
      },
      "outputs": [],
      "source": [
        "# Importing Libraries\n",
        "import pandas as pd\n",
        "import numpy as np\n",
        "import matplotlib.pyplot as plt\n",
        "import seaborn as sns\n",
        "from sklearn.model_selection import train_test_split\n",
        "from sklearn.ensemble import RandomForestClassifier\n",
        "from sklearn.feature_selection import SelectKBest, mutual_info_classif, RFE\n",
        "from sklearn.inspection import permutation_importance\n",
        "from sklearn.preprocessing import StandardScaler, LabelEncoder\n",
        "from sklearn.impute import SimpleImputer\n",
        "from sklearn.pipeline import make_pipeline\n",
        "from sklearn.metrics import accuracy_score"
      ]
    },
    {
      "cell_type": "code",
      "source": [
        "# Loading dataset\n",
        "df = pd.read_csv('soil_measures.csv')"
      ],
      "metadata": {
        "id": "iD8VRAqqqKpQ"
      },
      "execution_count": 2,
      "outputs": []
    },
    {
      "cell_type": "markdown",
      "source": [
        "### **Data Exploration**"
      ],
      "metadata": {
        "id": "CJigTA5lrmu1"
      }
    },
    {
      "cell_type": "code",
      "source": [
        "df.head()"
      ],
      "metadata": {
        "colab": {
          "base_uri": "https://localhost:8080/",
          "height": 206
        },
        "id": "9iESUd4kq374",
        "outputId": "e82ec6f3-8096-4b06-be5f-ab301cfb10d4"
      },
      "execution_count": 3,
      "outputs": [
        {
          "output_type": "execute_result",
          "data": {
            "text/plain": [
              "    N   P   K        ph  crop\n",
              "0  90  42  43  6.502985  rice\n",
              "1  85  58  41  7.038096  rice\n",
              "2  60  55  44  7.840207  rice\n",
              "3  74  35  40  6.980401  rice\n",
              "4  78  42  42  7.628473  rice"
            ],
            "text/html": [
              "\n",
              "  <div id=\"df-2649703a-bedc-44ea-8f37-cce082c7d2e0\" class=\"colab-df-container\">\n",
              "    <div>\n",
              "<style scoped>\n",
              "    .dataframe tbody tr th:only-of-type {\n",
              "        vertical-align: middle;\n",
              "    }\n",
              "\n",
              "    .dataframe tbody tr th {\n",
              "        vertical-align: top;\n",
              "    }\n",
              "\n",
              "    .dataframe thead th {\n",
              "        text-align: right;\n",
              "    }\n",
              "</style>\n",
              "<table border=\"1\" class=\"dataframe\">\n",
              "  <thead>\n",
              "    <tr style=\"text-align: right;\">\n",
              "      <th></th>\n",
              "      <th>N</th>\n",
              "      <th>P</th>\n",
              "      <th>K</th>\n",
              "      <th>ph</th>\n",
              "      <th>crop</th>\n",
              "    </tr>\n",
              "  </thead>\n",
              "  <tbody>\n",
              "    <tr>\n",
              "      <th>0</th>\n",
              "      <td>90</td>\n",
              "      <td>42</td>\n",
              "      <td>43</td>\n",
              "      <td>6.502985</td>\n",
              "      <td>rice</td>\n",
              "    </tr>\n",
              "    <tr>\n",
              "      <th>1</th>\n",
              "      <td>85</td>\n",
              "      <td>58</td>\n",
              "      <td>41</td>\n",
              "      <td>7.038096</td>\n",
              "      <td>rice</td>\n",
              "    </tr>\n",
              "    <tr>\n",
              "      <th>2</th>\n",
              "      <td>60</td>\n",
              "      <td>55</td>\n",
              "      <td>44</td>\n",
              "      <td>7.840207</td>\n",
              "      <td>rice</td>\n",
              "    </tr>\n",
              "    <tr>\n",
              "      <th>3</th>\n",
              "      <td>74</td>\n",
              "      <td>35</td>\n",
              "      <td>40</td>\n",
              "      <td>6.980401</td>\n",
              "      <td>rice</td>\n",
              "    </tr>\n",
              "    <tr>\n",
              "      <th>4</th>\n",
              "      <td>78</td>\n",
              "      <td>42</td>\n",
              "      <td>42</td>\n",
              "      <td>7.628473</td>\n",
              "      <td>rice</td>\n",
              "    </tr>\n",
              "  </tbody>\n",
              "</table>\n",
              "</div>\n",
              "    <div class=\"colab-df-buttons\">\n",
              "\n",
              "  <div class=\"colab-df-container\">\n",
              "    <button class=\"colab-df-convert\" onclick=\"convertToInteractive('df-2649703a-bedc-44ea-8f37-cce082c7d2e0')\"\n",
              "            title=\"Convert this dataframe to an interactive table.\"\n",
              "            style=\"display:none;\">\n",
              "\n",
              "  <svg xmlns=\"http://www.w3.org/2000/svg\" height=\"24px\" viewBox=\"0 -960 960 960\">\n",
              "    <path d=\"M120-120v-720h720v720H120Zm60-500h600v-160H180v160Zm220 220h160v-160H400v160Zm0 220h160v-160H400v160ZM180-400h160v-160H180v160Zm440 0h160v-160H620v160ZM180-180h160v-160H180v160Zm440 0h160v-160H620v160Z\"/>\n",
              "  </svg>\n",
              "    </button>\n",
              "\n",
              "  <style>\n",
              "    .colab-df-container {\n",
              "      display:flex;\n",
              "      gap: 12px;\n",
              "    }\n",
              "\n",
              "    .colab-df-convert {\n",
              "      background-color: #E8F0FE;\n",
              "      border: none;\n",
              "      border-radius: 50%;\n",
              "      cursor: pointer;\n",
              "      display: none;\n",
              "      fill: #1967D2;\n",
              "      height: 32px;\n",
              "      padding: 0 0 0 0;\n",
              "      width: 32px;\n",
              "    }\n",
              "\n",
              "    .colab-df-convert:hover {\n",
              "      background-color: #E2EBFA;\n",
              "      box-shadow: 0px 1px 2px rgba(60, 64, 67, 0.3), 0px 1px 3px 1px rgba(60, 64, 67, 0.15);\n",
              "      fill: #174EA6;\n",
              "    }\n",
              "\n",
              "    .colab-df-buttons div {\n",
              "      margin-bottom: 4px;\n",
              "    }\n",
              "\n",
              "    [theme=dark] .colab-df-convert {\n",
              "      background-color: #3B4455;\n",
              "      fill: #D2E3FC;\n",
              "    }\n",
              "\n",
              "    [theme=dark] .colab-df-convert:hover {\n",
              "      background-color: #434B5C;\n",
              "      box-shadow: 0px 1px 3px 1px rgba(0, 0, 0, 0.15);\n",
              "      filter: drop-shadow(0px 1px 2px rgba(0, 0, 0, 0.3));\n",
              "      fill: #FFFFFF;\n",
              "    }\n",
              "  </style>\n",
              "\n",
              "    <script>\n",
              "      const buttonEl =\n",
              "        document.querySelector('#df-2649703a-bedc-44ea-8f37-cce082c7d2e0 button.colab-df-convert');\n",
              "      buttonEl.style.display =\n",
              "        google.colab.kernel.accessAllowed ? 'block' : 'none';\n",
              "\n",
              "      async function convertToInteractive(key) {\n",
              "        const element = document.querySelector('#df-2649703a-bedc-44ea-8f37-cce082c7d2e0');\n",
              "        const dataTable =\n",
              "          await google.colab.kernel.invokeFunction('convertToInteractive',\n",
              "                                                    [key], {});\n",
              "        if (!dataTable) return;\n",
              "\n",
              "        const docLinkHtml = 'Like what you see? Visit the ' +\n",
              "          '<a target=\"_blank\" href=https://colab.research.google.com/notebooks/data_table.ipynb>data table notebook</a>'\n",
              "          + ' to learn more about interactive tables.';\n",
              "        element.innerHTML = '';\n",
              "        dataTable['output_type'] = 'display_data';\n",
              "        await google.colab.output.renderOutput(dataTable, element);\n",
              "        const docLink = document.createElement('div');\n",
              "        docLink.innerHTML = docLinkHtml;\n",
              "        element.appendChild(docLink);\n",
              "      }\n",
              "    </script>\n",
              "  </div>\n",
              "\n",
              "\n",
              "    <div id=\"df-b55e9dbb-2404-4bb9-b704-97a968e03389\">\n",
              "      <button class=\"colab-df-quickchart\" onclick=\"quickchart('df-b55e9dbb-2404-4bb9-b704-97a968e03389')\"\n",
              "                title=\"Suggest charts\"\n",
              "                style=\"display:none;\">\n",
              "\n",
              "<svg xmlns=\"http://www.w3.org/2000/svg\" height=\"24px\"viewBox=\"0 0 24 24\"\n",
              "     width=\"24px\">\n",
              "    <g>\n",
              "        <path d=\"M19 3H5c-1.1 0-2 .9-2 2v14c0 1.1.9 2 2 2h14c1.1 0 2-.9 2-2V5c0-1.1-.9-2-2-2zM9 17H7v-7h2v7zm4 0h-2V7h2v10zm4 0h-2v-4h2v4z\"/>\n",
              "    </g>\n",
              "</svg>\n",
              "      </button>\n",
              "\n",
              "<style>\n",
              "  .colab-df-quickchart {\n",
              "      --bg-color: #E8F0FE;\n",
              "      --fill-color: #1967D2;\n",
              "      --hover-bg-color: #E2EBFA;\n",
              "      --hover-fill-color: #174EA6;\n",
              "      --disabled-fill-color: #AAA;\n",
              "      --disabled-bg-color: #DDD;\n",
              "  }\n",
              "\n",
              "  [theme=dark] .colab-df-quickchart {\n",
              "      --bg-color: #3B4455;\n",
              "      --fill-color: #D2E3FC;\n",
              "      --hover-bg-color: #434B5C;\n",
              "      --hover-fill-color: #FFFFFF;\n",
              "      --disabled-bg-color: #3B4455;\n",
              "      --disabled-fill-color: #666;\n",
              "  }\n",
              "\n",
              "  .colab-df-quickchart {\n",
              "    background-color: var(--bg-color);\n",
              "    border: none;\n",
              "    border-radius: 50%;\n",
              "    cursor: pointer;\n",
              "    display: none;\n",
              "    fill: var(--fill-color);\n",
              "    height: 32px;\n",
              "    padding: 0;\n",
              "    width: 32px;\n",
              "  }\n",
              "\n",
              "  .colab-df-quickchart:hover {\n",
              "    background-color: var(--hover-bg-color);\n",
              "    box-shadow: 0 1px 2px rgba(60, 64, 67, 0.3), 0 1px 3px 1px rgba(60, 64, 67, 0.15);\n",
              "    fill: var(--button-hover-fill-color);\n",
              "  }\n",
              "\n",
              "  .colab-df-quickchart-complete:disabled,\n",
              "  .colab-df-quickchart-complete:disabled:hover {\n",
              "    background-color: var(--disabled-bg-color);\n",
              "    fill: var(--disabled-fill-color);\n",
              "    box-shadow: none;\n",
              "  }\n",
              "\n",
              "  .colab-df-spinner {\n",
              "    border: 2px solid var(--fill-color);\n",
              "    border-color: transparent;\n",
              "    border-bottom-color: var(--fill-color);\n",
              "    animation:\n",
              "      spin 1s steps(1) infinite;\n",
              "  }\n",
              "\n",
              "  @keyframes spin {\n",
              "    0% {\n",
              "      border-color: transparent;\n",
              "      border-bottom-color: var(--fill-color);\n",
              "      border-left-color: var(--fill-color);\n",
              "    }\n",
              "    20% {\n",
              "      border-color: transparent;\n",
              "      border-left-color: var(--fill-color);\n",
              "      border-top-color: var(--fill-color);\n",
              "    }\n",
              "    30% {\n",
              "      border-color: transparent;\n",
              "      border-left-color: var(--fill-color);\n",
              "      border-top-color: var(--fill-color);\n",
              "      border-right-color: var(--fill-color);\n",
              "    }\n",
              "    40% {\n",
              "      border-color: transparent;\n",
              "      border-right-color: var(--fill-color);\n",
              "      border-top-color: var(--fill-color);\n",
              "    }\n",
              "    60% {\n",
              "      border-color: transparent;\n",
              "      border-right-color: var(--fill-color);\n",
              "    }\n",
              "    80% {\n",
              "      border-color: transparent;\n",
              "      border-right-color: var(--fill-color);\n",
              "      border-bottom-color: var(--fill-color);\n",
              "    }\n",
              "    90% {\n",
              "      border-color: transparent;\n",
              "      border-bottom-color: var(--fill-color);\n",
              "    }\n",
              "  }\n",
              "</style>\n",
              "\n",
              "      <script>\n",
              "        async function quickchart(key) {\n",
              "          const quickchartButtonEl =\n",
              "            document.querySelector('#' + key + ' button');\n",
              "          quickchartButtonEl.disabled = true;  // To prevent multiple clicks.\n",
              "          quickchartButtonEl.classList.add('colab-df-spinner');\n",
              "          try {\n",
              "            const charts = await google.colab.kernel.invokeFunction(\n",
              "                'suggestCharts', [key], {});\n",
              "          } catch (error) {\n",
              "            console.error('Error during call to suggestCharts:', error);\n",
              "          }\n",
              "          quickchartButtonEl.classList.remove('colab-df-spinner');\n",
              "          quickchartButtonEl.classList.add('colab-df-quickchart-complete');\n",
              "        }\n",
              "        (() => {\n",
              "          let quickchartButtonEl =\n",
              "            document.querySelector('#df-b55e9dbb-2404-4bb9-b704-97a968e03389 button');\n",
              "          quickchartButtonEl.style.display =\n",
              "            google.colab.kernel.accessAllowed ? 'block' : 'none';\n",
              "        })();\n",
              "      </script>\n",
              "    </div>\n",
              "\n",
              "    </div>\n",
              "  </div>\n"
            ],
            "application/vnd.google.colaboratory.intrinsic+json": {
              "type": "dataframe",
              "variable_name": "df",
              "summary": "{\n  \"name\": \"df\",\n  \"rows\": 2200,\n  \"fields\": [\n    {\n      \"column\": \"N\",\n      \"properties\": {\n        \"dtype\": \"number\",\n        \"std\": 36,\n        \"min\": 0,\n        \"max\": 140,\n        \"num_unique_values\": 137,\n        \"samples\": [\n          106,\n          101,\n          88\n        ],\n        \"semantic_type\": \"\",\n        \"description\": \"\"\n      }\n    },\n    {\n      \"column\": \"P\",\n      \"properties\": {\n        \"dtype\": \"number\",\n        \"std\": 32,\n        \"min\": 5,\n        \"max\": 145,\n        \"num_unique_values\": 117,\n        \"samples\": [\n          69,\n          37,\n          11\n        ],\n        \"semantic_type\": \"\",\n        \"description\": \"\"\n      }\n    },\n    {\n      \"column\": \"K\",\n      \"properties\": {\n        \"dtype\": \"number\",\n        \"std\": 50,\n        \"min\": 5,\n        \"max\": 205,\n        \"num_unique_values\": 73,\n        \"samples\": [\n          42,\n          12,\n          15\n        ],\n        \"semantic_type\": \"\",\n        \"description\": \"\"\n      }\n    },\n    {\n      \"column\": \"ph\",\n      \"properties\": {\n        \"dtype\": \"number\",\n        \"std\": 0.7739376880298721,\n        \"min\": 3.504752314,\n        \"max\": 9.93509073,\n        \"num_unique_values\": 2200,\n        \"samples\": [\n          6.185053234,\n          6.25933595,\n          6.941496806\n        ],\n        \"semantic_type\": \"\",\n        \"description\": \"\"\n      }\n    },\n    {\n      \"column\": \"crop\",\n      \"properties\": {\n        \"dtype\": \"category\",\n        \"num_unique_values\": 22,\n        \"samples\": [\n          \"rice\",\n          \"watermelon\",\n          \"lentil\"\n        ],\n        \"semantic_type\": \"\",\n        \"description\": \"\"\n      }\n    }\n  ]\n}"
            }
          },
          "metadata": {},
          "execution_count": 3
        }
      ]
    },
    {
      "cell_type": "code",
      "source": [
        "print(\"=\"*50)\n",
        "print(\"Dataset Overview:\")\n",
        "print(\"=\"*50)\n",
        "# Dataset shape\n",
        "print(f\"Shape: {df.shape} (Rows: {df.shape[0]}, Columns: {df.shape[1]})\")\n",
        "# Dataset\n",
        "print(\"\\nFirst 5 rows:\")\n",
        "print(df.head())\n",
        "# Dataset Information\n",
        "print(\"\\nInfo:\")\n",
        "print(df.info)\n",
        "# Datatypes in dataset\n",
        "print(\"\\nData Types:\")\n",
        "print(df.dtypes)\n",
        "# Missing values in dataset\n",
        "print(\"\\nMissing Values:\")\n",
        "print(df.isnull().sum())\n",
        "# Description of dataset\n",
        "print(\"\\nDescription:\")\n",
        "print(df.describe())\n",
        "# Crop row distribution\n",
        "print(\"\\nCrop Distribution:\")\n",
        "print(df['crop'].value_counts())"
      ],
      "metadata": {
        "colab": {
          "base_uri": "https://localhost:8080/"
        },
        "id": "x_flMwRzqW3N",
        "outputId": "a041b577-0a1d-44a0-a1fb-f8ece5b78eaa"
      },
      "execution_count": 4,
      "outputs": [
        {
          "output_type": "stream",
          "name": "stdout",
          "text": [
            "==================================================\n",
            "Dataset Overview:\n",
            "==================================================\n",
            "Shape: (2200, 5) (Rows: 2200, Columns: 5)\n",
            "\n",
            "First 5 rows:\n",
            "    N   P   K        ph  crop\n",
            "0  90  42  43  6.502985  rice\n",
            "1  85  58  41  7.038096  rice\n",
            "2  60  55  44  7.840207  rice\n",
            "3  74  35  40  6.980401  rice\n",
            "4  78  42  42  7.628473  rice\n",
            "\n",
            "Info:\n",
            "<bound method DataFrame.info of         N   P   K        ph    crop\n",
            "0      90  42  43  6.502985    rice\n",
            "1      85  58  41  7.038096    rice\n",
            "2      60  55  44  7.840207    rice\n",
            "3      74  35  40  6.980401    rice\n",
            "4      78  42  42  7.628473    rice\n",
            "...   ...  ..  ..       ...     ...\n",
            "2195  107  34  32  6.780064  coffee\n",
            "2196   99  15  27  6.086922  coffee\n",
            "2197  118  33  30  6.362608  coffee\n",
            "2198  117  32  34  6.758793  coffee\n",
            "2199  104  18  30  6.779833  coffee\n",
            "\n",
            "[2200 rows x 5 columns]>\n",
            "\n",
            "Data Types:\n",
            "N         int64\n",
            "P         int64\n",
            "K         int64\n",
            "ph      float64\n",
            "crop     object\n",
            "dtype: object\n",
            "\n",
            "Missing Values:\n",
            "N       0\n",
            "P       0\n",
            "K       0\n",
            "ph      0\n",
            "crop    0\n",
            "dtype: int64\n",
            "\n",
            "Description:\n",
            "                 N            P            K           ph\n",
            "count  2200.000000  2200.000000  2200.000000  2200.000000\n",
            "mean     50.551818    53.362727    48.149091     6.469480\n",
            "std      36.917334    32.985883    50.647931     0.773938\n",
            "min       0.000000     5.000000     5.000000     3.504752\n",
            "25%      21.000000    28.000000    20.000000     5.971693\n",
            "50%      37.000000    51.000000    32.000000     6.425045\n",
            "75%      84.250000    68.000000    49.000000     6.923643\n",
            "max     140.000000   145.000000   205.000000     9.935091\n",
            "\n",
            "Crop Distribution:\n",
            "crop\n",
            "rice           100\n",
            "maize          100\n",
            "chickpea       100\n",
            "kidneybeans    100\n",
            "pigeonpeas     100\n",
            "mothbeans      100\n",
            "mungbean       100\n",
            "blackgram      100\n",
            "lentil         100\n",
            "pomegranate    100\n",
            "banana         100\n",
            "mango          100\n",
            "grapes         100\n",
            "watermelon     100\n",
            "muskmelon      100\n",
            "apple          100\n",
            "orange         100\n",
            "papaya         100\n",
            "coconut        100\n",
            "cotton         100\n",
            "jute           100\n",
            "coffee         100\n",
            "Name: count, dtype: int64\n"
          ]
        }
      ]
    },
    {
      "cell_type": "markdown",
      "source": [
        "### **Data Preprocessing**"
      ],
      "metadata": {
        "id": "CfhrDGkCsJJK"
      }
    },
    {
      "cell_type": "code",
      "source": [
        "# Handling missing values\n",
        "imputer = SimpleImputer(strategy='median')\n",
        "df[df.select_dtypes(include='number').columns] = imputer.fit_transform(df.select_dtypes(include='number'))"
      ],
      "metadata": {
        "id": "jH1cxpxtqeqV"
      },
      "execution_count": 5,
      "outputs": []
    },
    {
      "cell_type": "code",
      "source": [
        "# Encode target variable\n",
        "le = LabelEncoder()\n",
        "df['crop'] = le.fit_transform(df['crop'])"
      ],
      "metadata": {
        "id": "s2ypk6rZsQJX"
      },
      "execution_count": 6,
      "outputs": []
    },
    {
      "cell_type": "code",
      "source": [
        "# Separate features and target\n",
        "X = df.drop('crop', axis=1)\n",
        "y = df['crop']"
      ],
      "metadata": {
        "id": "-80GhDNlsSpS"
      },
      "execution_count": 7,
      "outputs": []
    },
    {
      "cell_type": "code",
      "source": [
        "# Split data\n",
        "X_train, X_test, y_train, y_test = train_test_split(\n",
        "    X, y, test_size=0.2, random_state=42, stratify=y\n",
        ")"
      ],
      "metadata": {
        "id": "UnpYEC0YsYT4"
      },
      "execution_count": 8,
      "outputs": []
    },
    {
      "cell_type": "code",
      "source": [
        "# Scale features\n",
        "scaler = StandardScaler()\n",
        "X_train_scaled = scaler.fit_transform(X_train)\n",
        "X_test_scaled = scaler.transform(X_test)"
      ],
      "metadata": {
        "id": "F5-l61-isaXH"
      },
      "execution_count": 9,
      "outputs": []
    },
    {
      "cell_type": "markdown",
      "source": [
        "### **Feature Selection**"
      ],
      "metadata": {
        "id": "84YXRamtsdcN"
      }
    },
    {
      "cell_type": "code",
      "source": [
        "# 1. Mutual Information\n",
        "print(\"\\n\" + \"=\"*50)\n",
        "print(\"Mutual Information Scores:\")\n",
        "print(\"=\"*50)\n",
        "mi = mutual_info_classif(X_train_scaled, y_train)\n",
        "mi_scores = pd.Series(mi, index=X.columns).sort_values(ascending=False)\n",
        "print(mi_scores)\n",
        "mi_scores.plot(kind='barh', title='Mutual Information Scores')\n",
        "plt.tight_layout()\n",
        "plt.show()"
      ],
      "metadata": {
        "colab": {
          "base_uri": "https://localhost:8080/",
          "height": 643
        },
        "id": "wafHBDjyscWI",
        "outputId": "a9cbc519-9455-49a8-a6da-b88111ce0b19"
      },
      "execution_count": 10,
      "outputs": [
        {
          "output_type": "stream",
          "name": "stdout",
          "text": [
            "\n",
            "==================================================\n",
            "Mutual Information Scores:\n",
            "==================================================\n",
            "K     1.641700\n",
            "P     1.306753\n",
            "N     0.990127\n",
            "ph    0.709290\n",
            "dtype: float64\n"
          ]
        },
        {
          "output_type": "display_data",
          "data": {
            "text/plain": [
              "<Figure size 640x480 with 1 Axes>"
            ],
            "image/png": "[encoded data removed]"
          },
          "metadata": {}
        }
      ]
    },
    {
      "cell_type": "code",
      "source": [
        "# 2. Random Forest Importance\n",
        "print(\"\\n\" + \"=\"*50)\n",
        "print(\"Random Forest Feature Importance:\")\n",
        "print(\"=\"*50)\n",
        "rf = RandomForestClassifier(n_estimators=100, random_state=42)\n",
        "rf.fit(X_train_scaled, y_train)\n",
        "feat_importances = pd.Series(rf.feature_importances_, index=X.columns).sort_values(ascending=False)\n",
        "print(feat_importances)\n",
        "feat_importances.plot(kind='barh', title='Random Forest Feature Importance')\n",
        "plt.tight_layout()\n",
        "plt.show()"
      ],
      "metadata": {
        "colab": {
          "base_uri": "https://localhost:8080/",
          "height": 643
        },
        "id": "RwMlGlTCsj99",
        "outputId": "6470c536-d756-467c-9a22-ee6d61e169f5"
      },
      "execution_count": 11,
      "outputs": [
        {
          "output_type": "stream",
          "name": "stdout",
          "text": [
            "\n",
            "==================================================\n",
            "Random Forest Feature Importance:\n",
            "==================================================\n",
            "K     0.320172\n",
            "P     0.253906\n",
            "N     0.215941\n",
            "ph    0.209982\n",
            "dtype: float64\n"
          ]
        },
        {
          "output_type": "display_data",
          "data": {
            "text/plain": [
              "<Figure size 640x480 with 1 Axes>"
            ],
            "image/png": "[encoded data removed]"
          },
          "metadata": {}
        }
      ]
    },
    {
      "cell_type": "code",
      "source": [
        "# 3. Recursive Feature Elimination (RFE)\n",
        "print(\"\\n\" + \"=\"*50)\n",
        "print(\"Recursive Feature Elimination:\")\n",
        "print(\"=\"*50)\n",
        "rfe = RFE(estimator=RandomForestClassifier(n_estimators=50, random_state=42), n_features_to_select=1)\n",
        "rfe.fit(X_train_scaled, y_train)\n",
        "rfe_ranking = pd.Series(rfe.ranking_, index=X.columns).sort_values()\n",
        "print(\"RFE Rankings (1 = best):\")\n",
        "print(rfe_ranking)"
      ],
      "metadata": {
        "colab": {
          "base_uri": "https://localhost:8080/"
        },
        "id": "iDaCVaKHsnWA",
        "outputId": "e53a7ee9-44e6-488a-ed91-5ae1379562a1"
      },
      "execution_count": 12,
      "outputs": [
        {
          "output_type": "stream",
          "name": "stdout",
          "text": [
            "\n",
            "==================================================\n",
            "Recursive Feature Elimination:\n",
            "==================================================\n",
            "RFE Rankings (1 = best):\n",
            "K     1\n",
            "P     2\n",
            "N     3\n",
            "ph    4\n",
            "dtype: int64\n"
          ]
        }
      ]
    },
    {
      "cell_type": "code",
      "source": [
        "# 4. Permutation Importance\n",
        "print(\"\\n\" + \"=\"*50)\n",
        "print(\"Permutation Importance:\")\n",
        "print(\"=\"*50)\n",
        "perm_importance = permutation_importance(\n",
        "    rf, X_test_scaled, y_test, n_repeats=10, random_state=42\n",
        ")\n",
        "sorted_idx = perm_importance.importances_mean.argsort()[::-1]\n",
        "perm_scores = pd.Series(\n",
        "    perm_importance.importances_mean[sorted_idx],\n",
        "    index=X.columns[sorted_idx]\n",
        ")\n",
        "print(perm_scores)\n",
        "perm_scores.plot(kind='barh', title='Permutation Importance')\n",
        "plt.tight_layout()\n",
        "plt.show()"
      ],
      "metadata": {
        "colab": {
          "base_uri": "https://localhost:8080/",
          "height": 643
        },
        "id": "NWQUrG78spg_",
        "outputId": "74345667-07f8-4b41-9168-650cf51fcf29"
      },
      "execution_count": 13,
      "outputs": [
        {
          "output_type": "stream",
          "name": "stdout",
          "text": [
            "\n",
            "==================================================\n",
            "Permutation Importance:\n",
            "==================================================\n",
            "K     0.444773\n",
            "P     0.352045\n",
            "N     0.311591\n",
            "ph    0.102955\n",
            "dtype: float64\n"
          ]
        },
        {
          "output_type": "display_data",
          "data": {
            "text/plain": [
              "<Figure size 640x480 with 1 Axes>"
            ],
            "image/png": "[encoded data removed]"
          },
          "metadata": {}
        }
      ]
    },
    {
      "cell_type": "code",
      "source": [
        "# Consolidated Feature Ranking\n",
        "print(\"\\n\" + \"=\"*50)\n",
        "print(\"Consolidated Feature Rankings:\")\n",
        "print(\"=\"*50)\n",
        "# Create ranking matrix\n",
        "rankings = pd.DataFrame({\n",
        "    'Mutual_Info': mi_scores.rank(ascending=False),\n",
        "    'RF_Importance': feat_importances.rank(ascending=False),\n",
        "    'RFE': rfe_ranking,\n",
        "    'Permutation': perm_scores.rank(ascending=False)\n",
        "})\n",
        "\n",
        "\n",
        "# Calculate average rank\n",
        "rankings['Average_Rank'] = rankings.mean(axis=1)\n",
        "final_ranking = rankings.sort_values('Average_Rank')\n",
        "print(final_ranking)\n",
        "\n",
        "\n",
        "# Identify top feature\n",
        "top_feature = final_ranking.index[0]\n",
        "print(f\"\\n>>> MOST IMPORTANT FEATURE: {top_feature} <<<\")"
      ],
      "metadata": {
        "colab": {
          "base_uri": "https://localhost:8080/"
        },
        "id": "1avKRaiCsseL",
        "outputId": "ecaecaf2-8fdd-4bfb-bb66-ce4199aa9a8b"
      },
      "execution_count": 14,
      "outputs": [
        {
          "output_type": "stream",
          "name": "stdout",
          "text": [
            "\n",
            "==================================================\n",
            "Consolidated Feature Rankings:\n",
            "==================================================\n",
            "    Mutual_Info  RF_Importance  RFE  Permutation  Average_Rank\n",
            "K           1.0            1.0    1          1.0           1.0\n",
            "P           2.0            2.0    2          2.0           2.0\n",
            "N           3.0            3.0    3          3.0           3.0\n",
            "ph          4.0            4.0    4          4.0           4.0\n",
            "\n",
            ">>> MOST IMPORTANT FEATURE: K <<<\n"
          ]
        }
      ]
    },
    {
      "cell_type": "markdown",
      "source": [
        "### **Validation with predictive modeling**"
      ],
      "metadata": {
        "id": "EybEbOOgtG-P"
      }
    },
    {
      "cell_type": "code",
      "source": [
        "# Full model\n",
        "full_model = make_pipeline(\n",
        "    StandardScaler(),\n",
        "    RandomForestClassifier(random_state=42)\n",
        ")\n",
        "full_model.fit(X_train, y_train)\n",
        "full_acc = accuracy_score(y_test, full_model.predict(X_test))"
      ],
      "metadata": {
        "id": "fNQUkScQsyyk"
      },
      "execution_count": 15,
      "outputs": []
    },
    {
      "cell_type": "code",
      "source": [
        "# Model with top feature only\n",
        "top_model = make_pipeline(\n",
        "    StandardScaler(),\n",
        "    RandomForestClassifier(random_state=42)\n",
        ")\n",
        "top_model.fit(X_train[[top_feature]], y_train)\n",
        "top_acc = accuracy_score(y_test, top_model.predict(X_test[[top_feature]]))"
      ],
      "metadata": {
        "id": "-s64_Vzrs4s_"
      },
      "execution_count": 16,
      "outputs": []
    },
    {
      "cell_type": "code",
      "source": [
        "print(\"\\n\" + \"=\"*50)\n",
        "print(\"Validation Results:\")\n",
        "print(\"=\"*50)\n",
        "print(f\"Full Model Accuracy: {full_acc:.4f}\")\n",
        "print(f\"Single-Feature ({top_feature}) Model Accuracy: {top_acc:.4f}\")\n",
        "print(f\"Accuracy Difference: {abs(full_acc - top_acc):.4f}\")"
      ],
      "metadata": {
        "colab": {
          "base_uri": "https://localhost:8080/"
        },
        "id": "L3i8Jz3Es80R",
        "outputId": "3ca8aff1-63fc-45a5-b1b4-d09065888392"
      },
      "execution_count": 17,
      "outputs": [
        {
          "output_type": "stream",
          "name": "stdout",
          "text": [
            "\n",
            "==================================================\n",
            "Validation Results:\n",
            "==================================================\n",
            "Full Model Accuracy: 0.7455\n",
            "Single-Feature (K) Model Accuracy: 0.2932\n",
            "Accuracy Difference: 0.4523\n"
          ]
        }
      ]
    },
    {
      "cell_type": "code",
      "source": [
        "# Interpretation\n",
        "print(\"\\n\" + \"=\"*50)\n",
        "print(\"Interpretation Guidelines:\")\n",
        "print(\"=\"*50)\n",
        "print(\"1. Mutual Information: Measures dependency between features and target\")\n",
        "print(\"2. RF Importance: Based on Gini impurity reduction during training\")\n",
        "print(\"3. RFE: Recursively eliminates weakest features\")\n",
        "print(\"4. Permutation: Measures accuracy drop when feature is randomized\")\n",
        "print(\"\\nKey Considerations:\")\n",
        "print(\"- All methods consistently ranked\", top_feature, \"as the most important\")\n",
        "print(\"- The single-feature model achieves\",\n",
        "      f\"{top_acc*100:.1f}% of full model accuracy\")\n",
        "print(\"- Soil pH appears critical for crop selection due to its direct\")\n",
        "print(\"  impact on nutrient availability and microbial activity\")"
      ],
      "metadata": {
        "colab": {
          "base_uri": "https://localhost:8080/"
        },
        "id": "FKI9REBZtR15",
        "outputId": "c801f0ae-0c6f-4906-c594-0bd4738e80ab"
      },
      "execution_count": 18,
      "outputs": [
        {
          "output_type": "stream",
          "name": "stdout",
          "text": [
            "\n",
            "==================================================\n",
            "Interpretation Guidelines:\n",
            "==================================================\n",
            "1. Mutual Information: Measures dependency between features and target\n",
            "2. RF Importance: Based on Gini impurity reduction during training\n",
            "3. RFE: Recursively eliminates weakest features\n",
            "4. Permutation: Measures accuracy drop when feature is randomized\n",
            "\n",
            "Key Considerations:\n",
            "- All methods consistently ranked K as the most important\n",
            "- The single-feature model achieves 29.3% of full model accuracy\n",
            "- Soil pH appears critical for crop selection due to its direct\n",
            "  impact on nutrient availability and microbial activity\n"
          ]
        }
      ]
    },
    {
      "cell_type": "code",
      "source": [],
      "metadata": {
        "id": "UfEVjYlXtaqX"
      },
      "execution_count": 18,
      "outputs": []
    }
  ]
}