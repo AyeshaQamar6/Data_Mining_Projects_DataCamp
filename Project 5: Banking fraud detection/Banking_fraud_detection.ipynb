{
  "nbformat": 4,
  "nbformat_minor": 0,
  "metadata": {
    "colab": {
      "provenance": [],
      "gpuType": "V28"
    },
    "kernelspec": {
      "name": "python3",
      "display_name": "Python 3"
    },
    "language_info": {
      "name": "python"
    },
    "accelerator": "TPU"
  },
  "cells": [
    {
      "cell_type": "code",
      "source": [
        "!pip install -U imbalanced-learn\n",
        "!pip install xgboost"
      ],
      "metadata": {
        "colab": {
          "base_uri": "https://localhost:8080/"
        },
        "id": "DlJ9CC3NiIg2",
        "outputId": "1d1a6bf6-a644-44cc-85c5-23898a9c78f8"
      },
      "execution_count": 5,
      "outputs": [
        {
          "output_type": "stream",
          "name": "stdout",
          "text": [
            "Requirement already satisfied: imbalanced-learn in /usr/local/lib/python3.11/dist-packages (0.13.0)\n",
            "Requirement already satisfied: numpy<3,>=1.24.3 in /usr/local/lib/python3.11/dist-packages (from imbalanced-learn) (2.0.2)\n",
            "Requirement already satisfied: scipy<2,>=1.10.1 in /usr/local/lib/python3.11/dist-packages (from imbalanced-learn) (1.15.3)\n",
            "Requirement already satisfied: scikit-learn<2,>=1.3.2 in /usr/local/lib/python3.11/dist-packages (from imbalanced-learn) (1.6.1)\n",
            "Requirement already satisfied: sklearn-compat<1,>=0.1 in /usr/local/lib/python3.11/dist-packages (from imbalanced-learn) (0.1.3)\n",
            "Requirement already satisfied: joblib<2,>=1.1.1 in /usr/local/lib/python3.11/dist-packages (from imbalanced-learn) (1.5.1)\n",
            "Requirement already satisfied: threadpoolctl<4,>=2.0.0 in /usr/local/lib/python3.11/dist-packages (from imbalanced-learn) (3.6.0)\n",
            "Collecting xgboost\n",
            "  Downloading xgboost-3.0.2-py3-none-manylinux_2_28_x86_64.whl.metadata (2.1 kB)\n",
            "Requirement already satisfied: numpy in /usr/local/lib/python3.11/dist-packages (from xgboost) (2.0.2)\n",
            "Collecting nvidia-nccl-cu12 (from xgboost)\n",
            "  Downloading nvidia_nccl_cu12-2.27.3-py3-none-manylinux2014_x86_64.manylinux_2_17_x86_64.whl.metadata (2.0 kB)\n",
            "Requirement already satisfied: scipy in /usr/local/lib/python3.11/dist-packages (from xgboost) (1.15.3)\n",
            "Downloading xgboost-3.0.2-py3-none-manylinux_2_28_x86_64.whl (253.9 MB)\n",
            "\u001b[2K   \u001b[90m━━━━━━━━━━━━━━━━━━━━━━━━━━━━━━━━━━━━━━━━\u001b[0m \u001b[32m253.9/253.9 MB\u001b[0m \u001b[31m4.3 MB/s\u001b[0m eta \u001b[36m0:00:00\u001b[0m\n",
            "\u001b[?25hDownloading nvidia_nccl_cu12-2.27.3-py3-none-manylinux2014_x86_64.manylinux_2_17_x86_64.whl (322.4 MB)\n",
            "\u001b[2K   \u001b[90m━━━━━━━━━━━━━━━━━━━━━━━━━━━━━━━━━━━━━━━━\u001b[0m \u001b[32m322.4/322.4 MB\u001b[0m \u001b[31m3.4 MB/s\u001b[0m eta \u001b[36m0:00:00\u001b[0m\n",
            "\u001b[?25hInstalling collected packages: nvidia-nccl-cu12, xgboost\n",
            "Successfully installed nvidia-nccl-cu12-2.27.3 xgboost-3.0.2\n"
          ]
        }
      ]
    },
    {
      "cell_type": "markdown",
      "source": [
        "### **Data Preparation**"
      ],
      "metadata": {
        "id": "dSj0espkwNSW"
      }
    },
    {
      "cell_type": "code",
      "execution_count": 6,
      "metadata": {
        "id": "FtAbHrjxRI7L"
      },
      "outputs": [],
      "source": [
        "import pandas as pd\n",
        "import numpy as np\n",
        "from datetime import datetime\n",
        "import matplotlib.pyplot as plt\n",
        "import seaborn as sns\n",
        "from sklearn.preprocessing import OneHotEncoder, StandardScaler, LabelEncoder\n",
        "from sklearn.compose import ColumnTransformer\n",
        "from sklearn.pipeline import Pipeline\n",
        "from sklearn.model_selection import train_test_split, GridSearchCV, StratifiedKFold\n",
        "from sklearn.ensemble import RandomForestClassifier\n",
        "from xgboost import XGBClassifier\n",
        "from sklearn.metrics import roc_auc_score, confusion_matrix, classification_report, roc_curve, auc\n",
        "from imblearn.over_sampling import SMOTE, ADASYN\n",
        "from imblearn.under_sampling import RandomUnderSampler\n",
        "from imblearn.pipeline import make_pipeline as make_imb_pipeline\n",
        "from sklearn.model_selection import RandomizedSearchCV\n",
        "import joblib\n",
        "import warnings\n",
        "warnings.filterwarnings('ignore')\n"
      ]
    },
    {
      "cell_type": "code",
      "source": [
        "# Load and Inspect Datasets\n",
        "train_df = pd.read_csv('fraudTrain.csv')\n",
        "test_df = pd.read_csv('fraudTest.csv')"
      ],
      "metadata": {
        "id": "4SRUh21RrsER"
      },
      "execution_count": 8,
      "outputs": []
    },
    {
      "cell_type": "code",
      "source": [
        "train_df.head()"
      ],
      "metadata": {
        "colab": {
          "base_uri": "https://localhost:8080/",
          "height": 551
        },
        "id": "kiSs0_-qsgmC",
        "outputId": "cf656953-6481-4294-e86c-b647cb59cc73"
      },
      "execution_count": 9,
      "outputs": [
        {
          "output_type": "execute_result",
          "data": {
            "text/plain": [
              "   Unnamed: 0 trans_date_trans_time            cc_num  \\\n",
              "0           0   2019-01-01 00:00:18  2703186189652095   \n",
              "1           1   2019-01-01 00:00:44      630423337322   \n",
              "2           2   2019-01-01 00:00:51    38859492057661   \n",
              "3           3   2019-01-01 00:01:16  3534093764340240   \n",
              "4           4   2019-01-01 00:03:06   375534208663984   \n",
              "\n",
              "                             merchant       category     amt      first  \\\n",
              "0          fraud_Rippin, Kub and Mann       misc_net    4.97   Jennifer   \n",
              "1     fraud_Heller, Gutmann and Zieme    grocery_pos  107.23  Stephanie   \n",
              "2                fraud_Lind-Buckridge  entertainment  220.11     Edward   \n",
              "3  fraud_Kutch, Hermiston and Farrell  gas_transport   45.00     Jeremy   \n",
              "4                 fraud_Keeling-Crist       misc_pos   41.96      Tyler   \n",
              "\n",
              "      last gender                        street  ...      lat      long  \\\n",
              "0    Banks      F                561 Perry Cove  ...  36.0788  -81.1781   \n",
              "1     Gill      F  43039 Riley Greens Suite 393  ...  48.8878 -118.2105   \n",
              "2  Sanchez      M      594 White Dale Suite 530  ...  42.1808 -112.2620   \n",
              "3    White      M   9443 Cynthia Court Apt. 038  ...  46.2306 -112.1138   \n",
              "4   Garcia      M              408 Bradley Rest  ...  38.4207  -79.4629   \n",
              "\n",
              "   city_pop                                job         dob  \\\n",
              "0    3495.0          Psychologist, counselling  1988-03-09   \n",
              "1     149.0  Special educational needs teacher  1978-06-21   \n",
              "2    4154.0        Nature conservation officer  1962-01-19   \n",
              "3    1939.0                    Patent attorney  1967-01-12   \n",
              "4      99.0     Dance movement psychotherapist  1986-03-28   \n",
              "\n",
              "                          trans_num     unix_time  merch_lat  merch_long  \\\n",
              "0  0b242abb623afc578575680df30655b9  1.325376e+09  36.011293  -82.048315   \n",
              "1  1f76529f8574734946361c461b024d99  1.325376e+09  49.159047 -118.186462   \n",
              "2  a1a22d70485983eac12b5b88dad1cf95  1.325376e+09  43.150704 -112.154481   \n",
              "3  6b849c168bdad6f867558c3793159a81  1.325376e+09  47.034331 -112.561071   \n",
              "4  a41d7549acf90789359a9aa5346dcb46  1.325376e+09  38.674999  -78.632459   \n",
              "\n",
              "   is_fraud  \n",
              "0       0.0  \n",
              "1       0.0  \n",
              "2       0.0  \n",
              "3       0.0  \n",
              "4       0.0  \n",
              "\n",
              "[5 rows x 23 columns]"
            ],
            "text/html": [
              "\n",
              "  <div id=\"df-16ea2628-33c7-4671-91a2-32bf1ffc9a66\" class=\"colab-df-container\">\n",
              "    <div>\n",
              "<style scoped>\n",
              "    .dataframe tbody tr th:only-of-type {\n",
              "        vertical-align: middle;\n",
              "    }\n",
              "\n",
              "    .dataframe tbody tr th {\n",
              "        vertical-align: top;\n",
              "    }\n",
              "\n",
              "    .dataframe thead th {\n",
              "        text-align: right;\n",
              "    }\n",
              "</style>\n",
              "<table border=\"1\" class=\"dataframe\">\n",
              "  <thead>\n",
              "    <tr style=\"text-align: right;\">\n",
              "      <th></th>\n",
              "      <th>Unnamed: 0</th>\n",
              "      <th>trans_date_trans_time</th>\n",
              "      <th>cc_num</th>\n",
              "      <th>merchant</th>\n",
              "      <th>category</th>\n",
              "      <th>amt</th>\n",
              "      <th>first</th>\n",
              "      <th>last</th>\n",
              "      <th>gender</th>\n",
              "      <th>street</th>\n",
              "      <th>...</th>\n",
              "      <th>lat</th>\n",
              "      <th>long</th>\n",
              "      <th>city_pop</th>\n",
              "      <th>job</th>\n",
              "      <th>dob</th>\n",
              "      <th>trans_num</th>\n",
              "      <th>unix_time</th>\n",
              "      <th>merch_lat</th>\n",
              "      <th>merch_long</th>\n",
              "      <th>is_fraud</th>\n",
              "    </tr>\n",
              "  </thead>\n",
              "  <tbody>\n",
              "    <tr>\n",
              "      <th>0</th>\n",
              "      <td>0</td>\n",
              "      <td>2019-01-01 00:00:18</td>\n",
              "      <td>2703186189652095</td>\n",
              "      <td>fraud_Rippin, Kub and Mann</td>\n",
              "      <td>misc_net</td>\n",
              "      <td>4.97</td>\n",
              "      <td>Jennifer</td>\n",
              "      <td>Banks</td>\n",
              "      <td>F</td>\n",
              "      <td>561 Perry Cove</td>\n",
              "      <td>...</td>\n",
              "      <td>36.0788</td>\n",
              "      <td>-81.1781</td>\n",
              "      <td>3495.0</td>\n",
              "      <td>Psychologist, counselling</td>\n",
              "      <td>1988-03-09</td>\n",
              "      <td>0b242abb623afc578575680df30655b9</td>\n",
              "      <td>1.325376e+09</td>\n",
              "      <td>36.011293</td>\n",
              "      <td>-82.048315</td>\n",
              "      <td>0.0</td>\n",
              "    </tr>\n",
              "    <tr>\n",
              "      <th>1</th>\n",
              "      <td>1</td>\n",
              "      <td>2019-01-01 00:00:44</td>\n",
              "      <td>630423337322</td>\n",
              "      <td>fraud_Heller, Gutmann and Zieme</td>\n",
              "      <td>grocery_pos</td>\n",
              "      <td>107.23</td>\n",
              "      <td>Stephanie</td>\n",
              "      <td>Gill</td>\n",
              "      <td>F</td>\n",
              "      <td>43039 Riley Greens Suite 393</td>\n",
              "      <td>...</td>\n",
              "      <td>48.8878</td>\n",
              "      <td>-118.2105</td>\n",
              "      <td>149.0</td>\n",
              "      <td>Special educational needs teacher</td>\n",
              "      <td>1978-06-21</td>\n",
              "      <td>1f76529f8574734946361c461b024d99</td>\n",
              "      <td>1.325376e+09</td>\n",
              "      <td>49.159047</td>\n",
              "      <td>-118.186462</td>\n",
              "      <td>0.0</td>\n",
              "    </tr>\n",
              "    <tr>\n",
              "      <th>2</th>\n",
              "      <td>2</td>\n",
              "      <td>2019-01-01 00:00:51</td>\n",
              "      <td>38859492057661</td>\n",
              "      <td>fraud_Lind-Buckridge</td>\n",
              "      <td>entertainment</td>\n",
              "      <td>220.11</td>\n",
              "      <td>Edward</td>\n",
              "      <td>Sanchez</td>\n",
              "      <td>M</td>\n",
              "      <td>594 White Dale Suite 530</td>\n",
              "      <td>...</td>\n",
              "      <td>42.1808</td>\n",
              "      <td>-112.2620</td>\n",
              "      <td>4154.0</td>\n",
              "      <td>Nature conservation officer</td>\n",
              "      <td>1962-01-19</td>\n",
              "      <td>a1a22d70485983eac12b5b88dad1cf95</td>\n",
              "      <td>1.325376e+09</td>\n",
              "      <td>43.150704</td>\n",
              "      <td>-112.154481</td>\n",
              "      <td>0.0</td>\n",
              "    </tr>\n",
              "    <tr>\n",
              "      <th>3</th>\n",
              "      <td>3</td>\n",
              "      <td>2019-01-01 00:01:16</td>\n",
              "      <td>3534093764340240</td>\n",
              "      <td>fraud_Kutch, Hermiston and Farrell</td>\n",
              "      <td>gas_transport</td>\n",
              "      <td>45.00</td>\n",
              "      <td>Jeremy</td>\n",
              "      <td>White</td>\n",
              "      <td>M</td>\n",
              "      <td>9443 Cynthia Court Apt. 038</td>\n",
              "      <td>...</td>\n",
              "      <td>46.2306</td>\n",
              "      <td>-112.1138</td>\n",
              "      <td>1939.0</td>\n",
              "      <td>Patent attorney</td>\n",
              "      <td>1967-01-12</td>\n",
              "      <td>6b849c168bdad6f867558c3793159a81</td>\n",
              "      <td>1.325376e+09</td>\n",
              "      <td>47.034331</td>\n",
              "      <td>-112.561071</td>\n",
              "      <td>0.0</td>\n",
              "    </tr>\n",
              "    <tr>\n",
              "      <th>4</th>\n",
              "      <td>4</td>\n",
              "      <td>2019-01-01 00:03:06</td>\n",
              "      <td>375534208663984</td>\n",
              "      <td>fraud_Keeling-Crist</td>\n",
              "      <td>misc_pos</td>\n",
              "      <td>41.96</td>\n",
              "      <td>Tyler</td>\n",
              "      <td>Garcia</td>\n",
              "      <td>M</td>\n",
              "      <td>408 Bradley Rest</td>\n",
              "      <td>...</td>\n",
              "      <td>38.4207</td>\n",
              "      <td>-79.4629</td>\n",
              "      <td>99.0</td>\n",
              "      <td>Dance movement psychotherapist</td>\n",
              "      <td>1986-03-28</td>\n",
              "      <td>a41d7549acf90789359a9aa5346dcb46</td>\n",
              "      <td>1.325376e+09</td>\n",
              "      <td>38.674999</td>\n",
              "      <td>-78.632459</td>\n",
              "      <td>0.0</td>\n",
              "    </tr>\n",
              "  </tbody>\n",
              "</table>\n",
              "<p>5 rows × 23 columns</p>\n",
              "</div>\n",
              "    <div class=\"colab-df-buttons\">\n",
              "\n",
              "  <div class=\"colab-df-container\">\n",
              "    <button class=\"colab-df-convert\" onclick=\"convertToInteractive('df-16ea2628-33c7-4671-91a2-32bf1ffc9a66')\"\n",
              "            title=\"Convert this dataframe to an interactive table.\"\n",
              "            style=\"display:none;\">\n",
              "\n",
              "  <svg xmlns=\"http://www.w3.org/2000/svg\" height=\"24px\" viewBox=\"0 -960 960 960\">\n",
              "    <path d=\"M120-120v-720h720v720H120Zm60-500h600v-160H180v160Zm220 220h160v-160H400v160Zm0 220h160v-160H400v160ZM180-400h160v-160H180v160Zm440 0h160v-160H620v160ZM180-180h160v-160H180v160Zm440 0h160v-160H620v160Z\"/>\n",
              "  </svg>\n",
              "    </button>\n",
              "\n",
              "  <style>\n",
              "    .colab-df-container {\n",
              "      display:flex;\n",
              "      gap: 12px;\n",
              "    }\n",
              "\n",
              "    .colab-df-convert {\n",
              "      background-color: #E8F0FE;\n",
              "      border: none;\n",
              "      border-radius: 50%;\n",
              "      cursor: pointer;\n",
              "      display: none;\n",
              "      fill: #1967D2;\n",
              "      height: 32px;\n",
              "      padding: 0 0 0 0;\n",
              "      width: 32px;\n",
              "    }\n",
              "\n",
              "    .colab-df-convert:hover {\n",
              "      background-color: #E2EBFA;\n",
              "      box-shadow: 0px 1px 2px rgba(60, 64, 67, 0.3), 0px 1px 3px 1px rgba(60, 64, 67, 0.15);\n",
              "      fill: #174EA6;\n",
              "    }\n",
              "\n",
              "    .colab-df-buttons div {\n",
              "      margin-bottom: 4px;\n",
              "    }\n",
              "\n",
              "    [theme=dark] .colab-df-convert {\n",
              "      background-color: #3B4455;\n",
              "      fill: #D2E3FC;\n",
              "    }\n",
              "\n",
              "    [theme=dark] .colab-df-convert:hover {\n",
              "      background-color: #434B5C;\n",
              "      box-shadow: 0px 1px 3px 1px rgba(0, 0, 0, 0.15);\n",
              "      filter: drop-shadow(0px 1px 2px rgba(0, 0, 0, 0.3));\n",
              "      fill: #FFFFFF;\n",
              "    }\n",
              "  </style>\n",
              "\n",
              "    <script>\n",
              "      const buttonEl =\n",
              "        document.querySelector('#df-16ea2628-33c7-4671-91a2-32bf1ffc9a66 button.colab-df-convert');\n",
              "      buttonEl.style.display =\n",
              "        google.colab.kernel.accessAllowed ? 'block' : 'none';\n",
              "\n",
              "      async function convertToInteractive(key) {\n",
              "        const element = document.querySelector('#df-16ea2628-33c7-4671-91a2-32bf1ffc9a66');\n",
              "        const dataTable =\n",
              "          await google.colab.kernel.invokeFunction('convertToInteractive',\n",
              "                                                    [key], {});\n",
              "        if (!dataTable) return;\n",
              "\n",
              "        const docLinkHtml = 'Like what you see? Visit the ' +\n",
              "          '<a target=\"_blank\" href=https://colab.research.google.com/notebooks/data_table.ipynb>data table notebook</a>'\n",
              "          + ' to learn more about interactive tables.';\n",
              "        element.innerHTML = '';\n",
              "        dataTable['output_type'] = 'display_data';\n",
              "        await google.colab.output.renderOutput(dataTable, element);\n",
              "        const docLink = document.createElement('div');\n",
              "        docLink.innerHTML = docLinkHtml;\n",
              "        element.appendChild(docLink);\n",
              "      }\n",
              "    </script>\n",
              "  </div>\n",
              "\n",
              "\n",
              "    <div id=\"df-6ef98ad2-ddeb-46c8-a4d2-2124c2ef5101\">\n",
              "      <button class=\"colab-df-quickchart\" onclick=\"quickchart('df-6ef98ad2-ddeb-46c8-a4d2-2124c2ef5101')\"\n",
              "                title=\"Suggest charts\"\n",
              "                style=\"display:none;\">\n",
              "\n",
              "<svg xmlns=\"http://www.w3.org/2000/svg\" height=\"24px\"viewBox=\"0 0 24 24\"\n",
              "     width=\"24px\">\n",
              "    <g>\n",
              "        <path d=\"M19 3H5c-1.1 0-2 .9-2 2v14c0 1.1.9 2 2 2h14c1.1 0 2-.9 2-2V5c0-1.1-.9-2-2-2zM9 17H7v-7h2v7zm4 0h-2V7h2v10zm4 0h-2v-4h2v4z\"/>\n",
              "    </g>\n",
              "</svg>\n",
              "      </button>\n",
              "\n",
              "<style>\n",
              "  .colab-df-quickchart {\n",
              "      --bg-color: #E8F0FE;\n",
              "      --fill-color: #1967D2;\n",
              "      --hover-bg-color: #E2EBFA;\n",
              "      --hover-fill-color: #174EA6;\n",
              "      --disabled-fill-color: #AAA;\n",
              "      --disabled-bg-color: #DDD;\n",
              "  }\n",
              "\n",
              "  [theme=dark] .colab-df-quickchart {\n",
              "      --bg-color: #3B4455;\n",
              "      --fill-color: #D2E3FC;\n",
              "      --hover-bg-color: #434B5C;\n",
              "      --hover-fill-color: #FFFFFF;\n",
              "      --disabled-bg-color: #3B4455;\n",
              "      --disabled-fill-color: #666;\n",
              "  }\n",
              "\n",
              "  .colab-df-quickchart {\n",
              "    background-color: var(--bg-color);\n",
              "    border: none;\n",
              "    border-radius: 50%;\n",
              "    cursor: pointer;\n",
              "    display: none;\n",
              "    fill: var(--fill-color);\n",
              "    height: 32px;\n",
              "    padding: 0;\n",
              "    width: 32px;\n",
              "  }\n",
              "\n",
              "  .colab-df-quickchart:hover {\n",
              "    background-color: var(--hover-bg-color);\n",
              "    box-shadow: 0 1px 2px rgba(60, 64, 67, 0.3), 0 1px 3px 1px rgba(60, 64, 67, 0.15);\n",
              "    fill: var(--button-hover-fill-color);\n",
              "  }\n",
              "\n",
              "  .colab-df-quickchart-complete:disabled,\n",
              "  .colab-df-quickchart-complete:disabled:hover {\n",
              "    background-color: var(--disabled-bg-color);\n",
              "    fill: var(--disabled-fill-color);\n",
              "    box-shadow: none;\n",
              "  }\n",
              "\n",
              "  .colab-df-spinner {\n",
              "    border: 2px solid var(--fill-color);\n",
              "    border-color: transparent;\n",
              "    border-bottom-color: var(--fill-color);\n",
              "    animation:\n",
              "      spin 1s steps(1) infinite;\n",
              "  }\n",
              "\n",
              "  @keyframes spin {\n",
              "    0% {\n",
              "      border-color: transparent;\n",
              "      border-bottom-color: var(--fill-color);\n",
              "      border-left-color: var(--fill-color);\n",
              "    }\n",
              "    20% {\n",
              "      border-color: transparent;\n",
              "      border-left-color: var(--fill-color);\n",
              "      border-top-color: var(--fill-color);\n",
              "    }\n",
              "    30% {\n",
              "      border-color: transparent;\n",
              "      border-left-color: var(--fill-color);\n",
              "      border-top-color: var(--fill-color);\n",
              "      border-right-color: var(--fill-color);\n",
              "    }\n",
              "    40% {\n",
              "      border-color: transparent;\n",
              "      border-right-color: var(--fill-color);\n",
              "      border-top-color: var(--fill-color);\n",
              "    }\n",
              "    60% {\n",
              "      border-color: transparent;\n",
              "      border-right-color: var(--fill-color);\n",
              "    }\n",
              "    80% {\n",
              "      border-color: transparent;\n",
              "      border-right-color: var(--fill-color);\n",
              "      border-bottom-color: var(--fill-color);\n",
              "    }\n",
              "    90% {\n",
              "      border-color: transparent;\n",
              "      border-bottom-color: var(--fill-color);\n",
              "    }\n",
              "  }\n",
              "</style>\n",
              "\n",
              "      <script>\n",
              "        async function quickchart(key) {\n",
              "          const quickchartButtonEl =\n",
              "            document.querySelector('#' + key + ' button');\n",
              "          quickchartButtonEl.disabled = true;  // To prevent multiple clicks.\n",
              "          quickchartButtonEl.classList.add('colab-df-spinner');\n",
              "          try {\n",
              "            const charts = await google.colab.kernel.invokeFunction(\n",
              "                'suggestCharts', [key], {});\n",
              "          } catch (error) {\n",
              "            console.error('Error during call to suggestCharts:', error);\n",
              "          }\n",
              "          quickchartButtonEl.classList.remove('colab-df-spinner');\n",
              "          quickchartButtonEl.classList.add('colab-df-quickchart-complete');\n",
              "        }\n",
              "        (() => {\n",
              "          let quickchartButtonEl =\n",
              "            document.querySelector('#df-6ef98ad2-ddeb-46c8-a4d2-2124c2ef5101 button');\n",
              "          quickchartButtonEl.style.display =\n",
              "            google.colab.kernel.accessAllowed ? 'block' : 'none';\n",
              "        })();\n",
              "      </script>\n",
              "    </div>\n",
              "\n",
              "    </div>\n",
              "  </div>\n"
            ],
            "application/vnd.google.colaboratory.intrinsic+json": {
              "type": "dataframe",
              "variable_name": "train_df"
            }
          },
          "metadata": {},
          "execution_count": 9
        }
      ]
    },
    {
      "cell_type": "code",
      "source": [
        "test_df.head()"
      ],
      "metadata": {
        "colab": {
          "base_uri": "https://localhost:8080/",
          "height": 481
        },
        "id": "vVG5s_6usoMD",
        "outputId": "3b3dafe0-750b-46d8-b0ed-66b1c93f96fb"
      },
      "execution_count": 10,
      "outputs": [
        {
          "output_type": "execute_result",
          "data": {
            "text/plain": [
              "   Unnamed: 0 trans_date_trans_time            cc_num  \\\n",
              "0           0   2020-06-21 12:14:25  2291163933867244   \n",
              "1           1   2020-06-21 12:14:33  3573030041201292   \n",
              "2           2   2020-06-21 12:14:53  3598215285024754   \n",
              "3           3   2020-06-21 12:15:15  3591919803438423   \n",
              "4           4   2020-06-21 12:15:17  3526826139003047   \n",
              "\n",
              "                               merchant        category    amt   first  \\\n",
              "0                 fraud_Kirlin and Sons   personal_care   2.86    Jeff   \n",
              "1                  fraud_Sporer-Keebler   personal_care  29.84  Joanne   \n",
              "2  fraud_Swaniawski, Nitzsche and Welch  health_fitness  41.28  Ashley   \n",
              "3                     fraud_Haley Group        misc_pos  60.05   Brian   \n",
              "4                 fraud_Johnston-Casper          travel   3.19  Nathan   \n",
              "\n",
              "       last gender                       street  ...      lat      long  \\\n",
              "0   Elliott      M            351 Darlene Green  ...  33.9659  -80.9355   \n",
              "1  Williams      F             3638 Marsh Union  ...  40.3207 -110.4360   \n",
              "2     Lopez      F         9333 Valentine Point  ...  40.6729  -73.5365   \n",
              "3  Williams      M  32941 Krystal Mill Apt. 552  ...  28.5697  -80.8191   \n",
              "4    Massey      M     5783 Evan Roads Apt. 465  ...  44.2529  -85.0170   \n",
              "\n",
              "   city_pop                     job         dob  \\\n",
              "0    333497     Mechanical engineer  1968-03-19   \n",
              "1       302  Sales professional, IT  1990-01-17   \n",
              "2     34496       Librarian, public  1970-10-21   \n",
              "3     54767            Set designer  1987-07-25   \n",
              "4      1126      Furniture designer  1955-07-06   \n",
              "\n",
              "                          trans_num     unix_time  merch_lat  merch_long  \\\n",
              "0  2da90c7d74bd46a0caf3777415b3ebd3  1.371817e+09  33.986391  -81.200714   \n",
              "1  324cc204407e99f51b0d6ca0055005e7  1.371817e+09  39.450498 -109.960431   \n",
              "2  c81755dbbbea9d5c77f094348a7579be  1.371817e+09  40.495810  -74.196111   \n",
              "3  2159175b9efe66dc301f149d3d5abf8c  1.371817e+09  28.812398  -80.883061   \n",
              "4  57ff021bd3f328f8738bb535c302a31b  1.371817e+09  44.959148  -85.884734   \n",
              "\n",
              "   is_fraud  \n",
              "0       0.0  \n",
              "1       0.0  \n",
              "2       0.0  \n",
              "3       0.0  \n",
              "4       0.0  \n",
              "\n",
              "[5 rows x 23 columns]"
            ],
            "text/html": [
              "\n",
              "  <div id=\"df-9b54984e-3683-40c8-bd3e-df418a4251bb\" class=\"colab-df-container\">\n",
              "    <div>\n",
              "<style scoped>\n",
              "    .dataframe tbody tr th:only-of-type {\n",
              "        vertical-align: middle;\n",
              "    }\n",
              "\n",
              "    .dataframe tbody tr th {\n",
              "        vertical-align: top;\n",
              "    }\n",
              "\n",
              "    .dataframe thead th {\n",
              "        text-align: right;\n",
              "    }\n",
              "</style>\n",
              "<table border=\"1\" class=\"dataframe\">\n",
              "  <thead>\n",
              "    <tr style=\"text-align: right;\">\n",
              "      <th></th>\n",
              "      <th>Unnamed: 0</th>\n",
              "      <th>trans_date_trans_time</th>\n",
              "      <th>cc_num</th>\n",
              "      <th>merchant</th>\n",
              "      <th>category</th>\n",
              "      <th>amt</th>\n",
              "      <th>first</th>\n",
              "      <th>last</th>\n",
              "      <th>gender</th>\n",
              "      <th>street</th>\n",
              "      <th>...</th>\n",
              "      <th>lat</th>\n",
              "      <th>long</th>\n",
              "      <th>city_pop</th>\n",
              "      <th>job</th>\n",
              "      <th>dob</th>\n",
              "      <th>trans_num</th>\n",
              "      <th>unix_time</th>\n",
              "      <th>merch_lat</th>\n",
              "      <th>merch_long</th>\n",
              "      <th>is_fraud</th>\n",
              "    </tr>\n",
              "  </thead>\n",
              "  <tbody>\n",
              "    <tr>\n",
              "      <th>0</th>\n",
              "      <td>0</td>\n",
              "      <td>2020-06-21 12:14:25</td>\n",
              "      <td>2291163933867244</td>\n",
              "      <td>fraud_Kirlin and Sons</td>\n",
              "      <td>personal_care</td>\n",
              "      <td>2.86</td>\n",
              "      <td>Jeff</td>\n",
              "      <td>Elliott</td>\n",
              "      <td>M</td>\n",
              "      <td>351 Darlene Green</td>\n",
              "      <td>...</td>\n",
              "      <td>33.9659</td>\n",
              "      <td>-80.9355</td>\n",
              "      <td>333497</td>\n",
              "      <td>Mechanical engineer</td>\n",
              "      <td>1968-03-19</td>\n",
              "      <td>2da90c7d74bd46a0caf3777415b3ebd3</td>\n",
              "      <td>1.371817e+09</td>\n",
              "      <td>33.986391</td>\n",
              "      <td>-81.200714</td>\n",
              "      <td>0.0</td>\n",
              "    </tr>\n",
              "    <tr>\n",
              "      <th>1</th>\n",
              "      <td>1</td>\n",
              "      <td>2020-06-21 12:14:33</td>\n",
              "      <td>3573030041201292</td>\n",
              "      <td>fraud_Sporer-Keebler</td>\n",
              "      <td>personal_care</td>\n",
              "      <td>29.84</td>\n",
              "      <td>Joanne</td>\n",
              "      <td>Williams</td>\n",
              "      <td>F</td>\n",
              "      <td>3638 Marsh Union</td>\n",
              "      <td>...</td>\n",
              "      <td>40.3207</td>\n",
              "      <td>-110.4360</td>\n",
              "      <td>302</td>\n",
              "      <td>Sales professional, IT</td>\n",
              "      <td>1990-01-17</td>\n",
              "      <td>324cc204407e99f51b0d6ca0055005e7</td>\n",
              "      <td>1.371817e+09</td>\n",
              "      <td>39.450498</td>\n",
              "      <td>-109.960431</td>\n",
              "      <td>0.0</td>\n",
              "    </tr>\n",
              "    <tr>\n",
              "      <th>2</th>\n",
              "      <td>2</td>\n",
              "      <td>2020-06-21 12:14:53</td>\n",
              "      <td>3598215285024754</td>\n",
              "      <td>fraud_Swaniawski, Nitzsche and Welch</td>\n",
              "      <td>health_fitness</td>\n",
              "      <td>41.28</td>\n",
              "      <td>Ashley</td>\n",
              "      <td>Lopez</td>\n",
              "      <td>F</td>\n",
              "      <td>9333 Valentine Point</td>\n",
              "      <td>...</td>\n",
              "      <td>40.6729</td>\n",
              "      <td>-73.5365</td>\n",
              "      <td>34496</td>\n",
              "      <td>Librarian, public</td>\n",
              "      <td>1970-10-21</td>\n",
              "      <td>c81755dbbbea9d5c77f094348a7579be</td>\n",
              "      <td>1.371817e+09</td>\n",
              "      <td>40.495810</td>\n",
              "      <td>-74.196111</td>\n",
              "      <td>0.0</td>\n",
              "    </tr>\n",
              "    <tr>\n",
              "      <th>3</th>\n",
              "      <td>3</td>\n",
              "      <td>2020-06-21 12:15:15</td>\n",
              "      <td>3591919803438423</td>\n",
              "      <td>fraud_Haley Group</td>\n",
              "      <td>misc_pos</td>\n",
              "      <td>60.05</td>\n",
              "      <td>Brian</td>\n",
              "      <td>Williams</td>\n",
              "      <td>M</td>\n",
              "      <td>32941 Krystal Mill Apt. 552</td>\n",
              "      <td>...</td>\n",
              "      <td>28.5697</td>\n",
              "      <td>-80.8191</td>\n",
              "      <td>54767</td>\n",
              "      <td>Set designer</td>\n",
              "      <td>1987-07-25</td>\n",
              "      <td>2159175b9efe66dc301f149d3d5abf8c</td>\n",
              "      <td>1.371817e+09</td>\n",
              "      <td>28.812398</td>\n",
              "      <td>-80.883061</td>\n",
              "      <td>0.0</td>\n",
              "    </tr>\n",
              "    <tr>\n",
              "      <th>4</th>\n",
              "      <td>4</td>\n",
              "      <td>2020-06-21 12:15:17</td>\n",
              "      <td>3526826139003047</td>\n",
              "      <td>fraud_Johnston-Casper</td>\n",
              "      <td>travel</td>\n",
              "      <td>3.19</td>\n",
              "      <td>Nathan</td>\n",
              "      <td>Massey</td>\n",
              "      <td>M</td>\n",
              "      <td>5783 Evan Roads Apt. 465</td>\n",
              "      <td>...</td>\n",
              "      <td>44.2529</td>\n",
              "      <td>-85.0170</td>\n",
              "      <td>1126</td>\n",
              "      <td>Furniture designer</td>\n",
              "      <td>1955-07-06</td>\n",
              "      <td>57ff021bd3f328f8738bb535c302a31b</td>\n",
              "      <td>1.371817e+09</td>\n",
              "      <td>44.959148</td>\n",
              "      <td>-85.884734</td>\n",
              "      <td>0.0</td>\n",
              "    </tr>\n",
              "  </tbody>\n",
              "</table>\n",
              "<p>5 rows × 23 columns</p>\n",
              "</div>\n",
              "    <div class=\"colab-df-buttons\">\n",
              "\n",
              "  <div class=\"colab-df-container\">\n",
              "    <button class=\"colab-df-convert\" onclick=\"convertToInteractive('df-9b54984e-3683-40c8-bd3e-df418a4251bb')\"\n",
              "            title=\"Convert this dataframe to an interactive table.\"\n",
              "            style=\"display:none;\">\n",
              "\n",
              "  <svg xmlns=\"http://www.w3.org/2000/svg\" height=\"24px\" viewBox=\"0 -960 960 960\">\n",
              "    <path d=\"M120-120v-720h720v720H120Zm60-500h600v-160H180v160Zm220 220h160v-160H400v160Zm0 220h160v-160H400v160ZM180-400h160v-160H180v160Zm440 0h160v-160H620v160ZM180-180h160v-160H180v160Zm440 0h160v-160H620v160Z\"/>\n",
              "  </svg>\n",
              "    </button>\n",
              "\n",
              "  <style>\n",
              "    .colab-df-container {\n",
              "      display:flex;\n",
              "      gap: 12px;\n",
              "    }\n",
              "\n",
              "    .colab-df-convert {\n",
              "      background-color: #E8F0FE;\n",
              "      border: none;\n",
              "      border-radius: 50%;\n",
              "      cursor: pointer;\n",
              "      display: none;\n",
              "      fill: #1967D2;\n",
              "      height: 32px;\n",
              "      padding: 0 0 0 0;\n",
              "      width: 32px;\n",
              "    }\n",
              "\n",
              "    .colab-df-convert:hover {\n",
              "      background-color: #E2EBFA;\n",
              "      box-shadow: 0px 1px 2px rgba(60, 64, 67, 0.3), 0px 1px 3px 1px rgba(60, 64, 67, 0.15);\n",
              "      fill: #174EA6;\n",
              "    }\n",
              "\n",
              "    .colab-df-buttons div {\n",
              "      margin-bottom: 4px;\n",
              "    }\n",
              "\n",
              "    [theme=dark] .colab-df-convert {\n",
              "      background-color: #3B4455;\n",
              "      fill: #D2E3FC;\n",
              "    }\n",
              "\n",
              "    [theme=dark] .colab-df-convert:hover {\n",
              "      background-color: #434B5C;\n",
              "      box-shadow: 0px 1px 3px 1px rgba(0, 0, 0, 0.15);\n",
              "      filter: drop-shadow(0px 1px 2px rgba(0, 0, 0, 0.3));\n",
              "      fill: #FFFFFF;\n",
              "    }\n",
              "  </style>\n",
              "\n",
              "    <script>\n",
              "      const buttonEl =\n",
              "        document.querySelector('#df-9b54984e-3683-40c8-bd3e-df418a4251bb button.colab-df-convert');\n",
              "      buttonEl.style.display =\n",
              "        google.colab.kernel.accessAllowed ? 'block' : 'none';\n",
              "\n",
              "      async function convertToInteractive(key) {\n",
              "        const element = document.querySelector('#df-9b54984e-3683-40c8-bd3e-df418a4251bb');\n",
              "        const dataTable =\n",
              "          await google.colab.kernel.invokeFunction('convertToInteractive',\n",
              "                                                    [key], {});\n",
              "        if (!dataTable) return;\n",
              "\n",
              "        const docLinkHtml = 'Like what you see? Visit the ' +\n",
              "          '<a target=\"_blank\" href=https://colab.research.google.com/notebooks/data_table.ipynb>data table notebook</a>'\n",
              "          + ' to learn more about interactive tables.';\n",
              "        element.innerHTML = '';\n",
              "        dataTable['output_type'] = 'display_data';\n",
              "        await google.colab.output.renderOutput(dataTable, element);\n",
              "        const docLink = document.createElement('div');\n",
              "        docLink.innerHTML = docLinkHtml;\n",
              "        element.appendChild(docLink);\n",
              "      }\n",
              "    </script>\n",
              "  </div>\n",
              "\n",
              "\n",
              "    <div id=\"df-e8434485-956f-4095-b7cb-4c9efc0f44b0\">\n",
              "      <button class=\"colab-df-quickchart\" onclick=\"quickchart('df-e8434485-956f-4095-b7cb-4c9efc0f44b0')\"\n",
              "                title=\"Suggest charts\"\n",
              "                style=\"display:none;\">\n",
              "\n",
              "<svg xmlns=\"http://www.w3.org/2000/svg\" height=\"24px\"viewBox=\"0 0 24 24\"\n",
              "     width=\"24px\">\n",
              "    <g>\n",
              "        <path d=\"M19 3H5c-1.1 0-2 .9-2 2v14c0 1.1.9 2 2 2h14c1.1 0 2-.9 2-2V5c0-1.1-.9-2-2-2zM9 17H7v-7h2v7zm4 0h-2V7h2v10zm4 0h-2v-4h2v4z\"/>\n",
              "    </g>\n",
              "</svg>\n",
              "      </button>\n",
              "\n",
              "<style>\n",
              "  .colab-df-quickchart {\n",
              "      --bg-color: #E8F0FE;\n",
              "      --fill-color: #1967D2;\n",
              "      --hover-bg-color: #E2EBFA;\n",
              "      --hover-fill-color: #174EA6;\n",
              "      --disabled-fill-color: #AAA;\n",
              "      --disabled-bg-color: #DDD;\n",
              "  }\n",
              "\n",
              "  [theme=dark] .colab-df-quickchart {\n",
              "      --bg-color: #3B4455;\n",
              "      --fill-color: #D2E3FC;\n",
              "      --hover-bg-color: #434B5C;\n",
              "      --hover-fill-color: #FFFFFF;\n",
              "      --disabled-bg-color: #3B4455;\n",
              "      --disabled-fill-color: #666;\n",
              "  }\n",
              "\n",
              "  .colab-df-quickchart {\n",
              "    background-color: var(--bg-color);\n",
              "    border: none;\n",
              "    border-radius: 50%;\n",
              "    cursor: pointer;\n",
              "    display: none;\n",
              "    fill: var(--fill-color);\n",
              "    height: 32px;\n",
              "    padding: 0;\n",
              "    width: 32px;\n",
              "  }\n",
              "\n",
              "  .colab-df-quickchart:hover {\n",
              "    background-color: var(--hover-bg-color);\n",
              "    box-shadow: 0 1px 2px rgba(60, 64, 67, 0.3), 0 1px 3px 1px rgba(60, 64, 67, 0.15);\n",
              "    fill: var(--button-hover-fill-color);\n",
              "  }\n",
              "\n",
              "  .colab-df-quickchart-complete:disabled,\n",
              "  .colab-df-quickchart-complete:disabled:hover {\n",
              "    background-color: var(--disabled-bg-color);\n",
              "    fill: var(--disabled-fill-color);\n",
              "    box-shadow: none;\n",
              "  }\n",
              "\n",
              "  .colab-df-spinner {\n",
              "    border: 2px solid var(--fill-color);\n",
              "    border-color: transparent;\n",
              "    border-bottom-color: var(--fill-color);\n",
              "    animation:\n",
              "      spin 1s steps(1) infinite;\n",
              "  }\n",
              "\n",
              "  @keyframes spin {\n",
              "    0% {\n",
              "      border-color: transparent;\n",
              "      border-bottom-color: var(--fill-color);\n",
              "      border-left-color: var(--fill-color);\n",
              "    }\n",
              "    20% {\n",
              "      border-color: transparent;\n",
              "      border-left-color: var(--fill-color);\n",
              "      border-top-color: var(--fill-color);\n",
              "    }\n",
              "    30% {\n",
              "      border-color: transparent;\n",
              "      border-left-color: var(--fill-color);\n",
              "      border-top-color: var(--fill-color);\n",
              "      border-right-color: var(--fill-color);\n",
              "    }\n",
              "    40% {\n",
              "      border-color: transparent;\n",
              "      border-right-color: var(--fill-color);\n",
              "      border-top-color: var(--fill-color);\n",
              "    }\n",
              "    60% {\n",
              "      border-color: transparent;\n",
              "      border-right-color: var(--fill-color);\n",
              "    }\n",
              "    80% {\n",
              "      border-color: transparent;\n",
              "      border-right-color: var(--fill-color);\n",
              "      border-bottom-color: var(--fill-color);\n",
              "    }\n",
              "    90% {\n",
              "      border-color: transparent;\n",
              "      border-bottom-color: var(--fill-color);\n",
              "    }\n",
              "  }\n",
              "</style>\n",
              "\n",
              "      <script>\n",
              "        async function quickchart(key) {\n",
              "          const quickchartButtonEl =\n",
              "            document.querySelector('#' + key + ' button');\n",
              "          quickchartButtonEl.disabled = true;  // To prevent multiple clicks.\n",
              "          quickchartButtonEl.classList.add('colab-df-spinner');\n",
              "          try {\n",
              "            const charts = await google.colab.kernel.invokeFunction(\n",
              "                'suggestCharts', [key], {});\n",
              "          } catch (error) {\n",
              "            console.error('Error during call to suggestCharts:', error);\n",
              "          }\n",
              "          quickchartButtonEl.classList.remove('colab-df-spinner');\n",
              "          quickchartButtonEl.classList.add('colab-df-quickchart-complete');\n",
              "        }\n",
              "        (() => {\n",
              "          let quickchartButtonEl =\n",
              "            document.querySelector('#df-e8434485-956f-4095-b7cb-4c9efc0f44b0 button');\n",
              "          quickchartButtonEl.style.display =\n",
              "            google.colab.kernel.accessAllowed ? 'block' : 'none';\n",
              "        })();\n",
              "      </script>\n",
              "    </div>\n",
              "\n",
              "    </div>\n",
              "  </div>\n"
            ],
            "application/vnd.google.colaboratory.intrinsic+json": {
              "type": "dataframe",
              "variable_name": "test_df"
            }
          },
          "metadata": {},
          "execution_count": 10
        }
      ]
    },
    {
      "cell_type": "markdown",
      "source": [
        "### **Exploratoray Data Analysis**"
      ],
      "metadata": {
        "id": "MOQkMf74ww-F"
      }
    },
    {
      "cell_type": "code",
      "source": [
        "# Shape of datasets\n",
        "print(\"Training Data Shape:\", train_df.shape)\n",
        "print(\"Testing Data Shape:\", test_df.shape)"
      ],
      "metadata": {
        "colab": {
          "base_uri": "https://localhost:8080/"
        },
        "id": "5olDta4Jr9HW",
        "outputId": "3f48d04e-4285-41fc-c698-782835a90257"
      },
      "execution_count": 11,
      "outputs": [
        {
          "output_type": "stream",
          "name": "stdout",
          "text": [
            "Training Data Shape: (42831, 23)\n",
            "Testing Data Shape: (42783, 23)\n"
          ]
        }
      ]
    },
    {
      "cell_type": "code",
      "source": [
        "# Columns of datasets\n",
        "print(\"Training Data Columns:\", train_df.columns)\n",
        "print(\"Testing Data Columns:\", test_df.columns)"
      ],
      "metadata": {
        "colab": {
          "base_uri": "https://localhost:8080/"
        },
        "id": "HllHaTtbtgxc",
        "outputId": "8a744f60-98ed-441f-d9ac-87679f31f5de"
      },
      "execution_count": 12,
      "outputs": [
        {
          "output_type": "stream",
          "name": "stdout",
          "text": [
            "Training Data Columns: Index(['Unnamed: 0', 'trans_date_trans_time', 'cc_num', 'merchant', 'category',\n",
            "       'amt', 'first', 'last', 'gender', 'street', 'city', 'state', 'zip',\n",
            "       'lat', 'long', 'city_pop', 'job', 'dob', 'trans_num', 'unix_time',\n",
            "       'merch_lat', 'merch_long', 'is_fraud'],\n",
            "      dtype='object')\n",
            "Testing Data Columns: Index(['Unnamed: 0', 'trans_date_trans_time', 'cc_num', 'merchant', 'category',\n",
            "       'amt', 'first', 'last', 'gender', 'street', 'city', 'state', 'zip',\n",
            "       'lat', 'long', 'city_pop', 'job', 'dob', 'trans_num', 'unix_time',\n",
            "       'merch_lat', 'merch_long', 'is_fraud'],\n",
            "      dtype='object')\n"
          ]
        }
      ]
    },
    {
      "cell_type": "code",
      "source": [
        "# Info of train dataset\n",
        "print(\"Training Data Info:\")\n",
        "train_df.info()"
      ],
      "metadata": {
        "colab": {
          "base_uri": "https://localhost:8080/"
        },
        "id": "uRGzPP0hsGKu",
        "outputId": "485eca54-4543-45fe-a8a2-e0ebc7acabfb"
      },
      "execution_count": 13,
      "outputs": [
        {
          "output_type": "stream",
          "name": "stdout",
          "text": [
            "Training Data Info:\n",
            "<class 'pandas.core.frame.DataFrame'>\n",
            "RangeIndex: 42831 entries, 0 to 42830\n",
            "Data columns (total 23 columns):\n",
            " #   Column                 Non-Null Count  Dtype  \n",
            "---  ------                 --------------  -----  \n",
            " 0   Unnamed: 0             42831 non-null  int64  \n",
            " 1   trans_date_trans_time  42831 non-null  object \n",
            " 2   cc_num                 42831 non-null  int64  \n",
            " 3   merchant               42831 non-null  object \n",
            " 4   category               42831 non-null  object \n",
            " 5   amt                    42831 non-null  float64\n",
            " 6   first                  42831 non-null  object \n",
            " 7   last                   42831 non-null  object \n",
            " 8   gender                 42831 non-null  object \n",
            " 9   street                 42831 non-null  object \n",
            " 10  city                   42831 non-null  object \n",
            " 11  state                  42831 non-null  object \n",
            " 12  zip                    42831 non-null  int64  \n",
            " 13  lat                    42831 non-null  float64\n",
            " 14  long                   42831 non-null  float64\n",
            " 15  city_pop               42830 non-null  float64\n",
            " 16  job                    42830 non-null  object \n",
            " 17  dob                    42830 non-null  object \n",
            " 18  trans_num              42830 non-null  object \n",
            " 19  unix_time              42830 non-null  float64\n",
            " 20  merch_lat              42830 non-null  float64\n",
            " 21  merch_long             42830 non-null  float64\n",
            " 22  is_fraud               42830 non-null  float64\n",
            "dtypes: float64(8), int64(3), object(12)\n",
            "memory usage: 7.5+ MB\n"
          ]
        }
      ]
    },
    {
      "cell_type": "code",
      "source": [
        "# Info of test dataset\n",
        "print(\"\\nTest Data Info:\")\n",
        "test_df.info()"
      ],
      "metadata": {
        "colab": {
          "base_uri": "https://localhost:8080/"
        },
        "id": "T5IBRkBMsKna",
        "outputId": "48ec1462-7e06-4d17-b61b-dd1828249cb9"
      },
      "execution_count": 14,
      "outputs": [
        {
          "output_type": "stream",
          "name": "stdout",
          "text": [
            "\n",
            "Test Data Info:\n",
            "<class 'pandas.core.frame.DataFrame'>\n",
            "RangeIndex: 42783 entries, 0 to 42782\n",
            "Data columns (total 23 columns):\n",
            " #   Column                 Non-Null Count  Dtype  \n",
            "---  ------                 --------------  -----  \n",
            " 0   Unnamed: 0             42783 non-null  int64  \n",
            " 1   trans_date_trans_time  42783 non-null  object \n",
            " 2   cc_num                 42783 non-null  int64  \n",
            " 3   merchant               42783 non-null  object \n",
            " 4   category               42783 non-null  object \n",
            " 5   amt                    42783 non-null  float64\n",
            " 6   first                  42783 non-null  object \n",
            " 7   last                   42783 non-null  object \n",
            " 8   gender                 42783 non-null  object \n",
            " 9   street                 42783 non-null  object \n",
            " 10  city                   42783 non-null  object \n",
            " 11  state                  42783 non-null  object \n",
            " 12  zip                    42783 non-null  int64  \n",
            " 13  lat                    42783 non-null  float64\n",
            " 14  long                   42783 non-null  float64\n",
            " 15  city_pop               42783 non-null  int64  \n",
            " 16  job                    42783 non-null  object \n",
            " 17  dob                    42783 non-null  object \n",
            " 18  trans_num              42782 non-null  object \n",
            " 19  unix_time              42782 non-null  float64\n",
            " 20  merch_lat              42782 non-null  float64\n",
            " 21  merch_long             42782 non-null  float64\n",
            " 22  is_fraud               42782 non-null  float64\n",
            "dtypes: float64(7), int64(4), object(12)\n",
            "memory usage: 7.5+ MB\n"
          ]
        }
      ]
    },
    {
      "cell_type": "code",
      "source": [
        "#  Check available columns\n",
        "print(\"Training columns:\", train_df.columns.tolist())\n",
        "print(\"Testing columns:\", test_df.columns.tolist())"
      ],
      "metadata": {
        "colab": {
          "base_uri": "https://localhost:8080/"
        },
        "id": "A__Df5lAtGCu",
        "outputId": "d9486406-4a52-4684-d298-bbf09f80a604"
      },
      "execution_count": 15,
      "outputs": [
        {
          "output_type": "stream",
          "name": "stdout",
          "text": [
            "Training columns: ['Unnamed: 0', 'trans_date_trans_time', 'cc_num', 'merchant', 'category', 'amt', 'first', 'last', 'gender', 'street', 'city', 'state', 'zip', 'lat', 'long', 'city_pop', 'job', 'dob', 'trans_num', 'unix_time', 'merch_lat', 'merch_long', 'is_fraud']\n",
            "Testing columns: ['Unnamed: 0', 'trans_date_trans_time', 'cc_num', 'merchant', 'category', 'amt', 'first', 'last', 'gender', 'street', 'city', 'state', 'zip', 'lat', 'long', 'city_pop', 'job', 'dob', 'trans_num', 'unix_time', 'merch_lat', 'merch_long', 'is_fraud']\n"
          ]
        }
      ]
    },
    {
      "cell_type": "code",
      "source": [
        "# Check for missing values\n",
        "print(\"\\nMissing values in training data:\")\n",
        "print(train_df.isnull().sum())"
      ],
      "metadata": {
        "colab": {
          "base_uri": "https://localhost:8080/"
        },
        "id": "oYgIgxWHxL9d",
        "outputId": "34298a84-3e93-4136-c7f1-581e9709a902"
      },
      "execution_count": 16,
      "outputs": [
        {
          "output_type": "stream",
          "name": "stdout",
          "text": [
            "\n",
            "Missing values in training data:\n",
            "Unnamed: 0               0\n",
            "trans_date_trans_time    0\n",
            "cc_num                   0\n",
            "merchant                 0\n",
            "category                 0\n",
            "amt                      0\n",
            "first                    0\n",
            "last                     0\n",
            "gender                   0\n",
            "street                   0\n",
            "city                     0\n",
            "state                    0\n",
            "zip                      0\n",
            "lat                      0\n",
            "long                     0\n",
            "city_pop                 1\n",
            "job                      1\n",
            "dob                      1\n",
            "trans_num                1\n",
            "unix_time                1\n",
            "merch_lat                1\n",
            "merch_long               1\n",
            "is_fraud                 1\n",
            "dtype: int64\n"
          ]
        }
      ]
    },
    {
      "cell_type": "code",
      "source": [
        "# Check class distribution\n",
        "print(\"\\nClass distribution - Training:\")\n",
        "print(train_df['is_fraud'].value_counts(normalize=True))\n",
        "print(\"\\nClass distribution - Testing:\")\n",
        "print(test_df['is_fraud'].value_counts(normalize=True))"
      ],
      "metadata": {
        "colab": {
          "base_uri": "https://localhost:8080/"
        },
        "id": "f7FXHV-2xEQ1",
        "outputId": "a850c31a-2253-49da-e48d-cefb9d21a81b"
      },
      "execution_count": 17,
      "outputs": [
        {
          "output_type": "stream",
          "name": "stdout",
          "text": [
            "\n",
            "Class distribution - Training:\n",
            "is_fraud\n",
            "0.0    0.990731\n",
            "1.0    0.009269\n",
            "Name: proportion, dtype: float64\n",
            "\n",
            "Class distribution - Testing:\n",
            "is_fraud\n",
            "0.0    0.995699\n",
            "1.0    0.004301\n",
            "Name: proportion, dtype: float64\n"
          ]
        }
      ]
    },
    {
      "cell_type": "code",
      "source": [
        "# Identify target column (modify this based on actual column name)\n",
        "# Common alternatives: 'isFraud', 'fraud', 'label', 'target', 'transactionStatus'\n",
        "target_column = 'isFraud'  # CHANGE THIS TO YOUR ACTUAL TARGET COLUMN NAME"
      ],
      "metadata": {
        "id": "ZbI4bbL6tL9N"
      },
      "execution_count": 18,
      "outputs": []
    },
    {
      "cell_type": "code",
      "source": [
        "# Check for duplicates\n",
        "print(\"\\nDuplicate rows in training:\", train_df.duplicated().sum())\n",
        "print(\"Duplicate rows in testing:\", test_df.duplicated().sum())"
      ],
      "metadata": {
        "colab": {
          "base_uri": "https://localhost:8080/"
        },
        "id": "rIzBEZhaxYuB",
        "outputId": "d66b91e9-fa6f-4cc3-9241-1409a5023b12"
      },
      "execution_count": 19,
      "outputs": [
        {
          "output_type": "stream",
          "name": "stdout",
          "text": [
            "\n",
            "Duplicate rows in training: 0\n",
            "Duplicate rows in testing: 0\n"
          ]
        }
      ]
    },
    {
      "cell_type": "code",
      "source": [
        "# Analyze numerical features\n",
        "num_cols = ['amt', 'city_pop', 'lat', 'long', 'merch_lat', 'merch_long']\n",
        "train_df[num_cols].describe()"
      ],
      "metadata": {
        "colab": {
          "base_uri": "https://localhost:8080/",
          "height": 300
        },
        "id": "cYrdIhp5xdeW",
        "outputId": "b7cd2996-4978-4715-c69b-7af650523e75"
      },
      "execution_count": 20,
      "outputs": [
        {
          "output_type": "execute_result",
          "data": {
            "text/plain": [
              "                amt      city_pop           lat          long     merch_lat  \\\n",
              "count  42831.000000  4.283000e+04  42831.000000  42831.000000  42830.000000   \n",
              "mean      71.563338  8.852743e+04     38.536225    -90.241386     38.536078   \n",
              "std      151.062206  2.977794e+05      5.091000     13.953112      5.121287   \n",
              "min        1.000000  2.300000e+01     20.027100   -165.672300     19.040141   \n",
              "25%        9.690000  7.430000e+02     34.668900    -96.809400     34.785872   \n",
              "50%       47.970000  2.456000e+03     39.346500    -87.456900     39.348741   \n",
              "75%       83.680000  2.047800e+04     41.846700    -80.128400     41.924197   \n",
              "max    11872.210000  2.906700e+06     65.689900    -12.000000     66.659242   \n",
              "\n",
              "         merch_long  \n",
              "count  42830.000000  \n",
              "mean     -90.247263  \n",
              "std       13.962830  \n",
              "min     -166.629875  \n",
              "25%      -96.940941  \n",
              "50%      -87.366152  \n",
              "75%      -80.174018  \n",
              "max      -66.967742  "
            ],
            "text/html": [
              "\n",
              "  <div id=\"df-d59a6a9e-73ff-416f-a842-31057c7065d3\" class=\"colab-df-container\">\n",
              "    <div>\n",
              "<style scoped>\n",
              "    .dataframe tbody tr th:only-of-type {\n",
              "        vertical-align: middle;\n",
              "    }\n",
              "\n",
              "    .dataframe tbody tr th {\n",
              "        vertical-align: top;\n",
              "    }\n",
              "\n",
              "    .dataframe thead th {\n",
              "        text-align: right;\n",
              "    }\n",
              "</style>\n",
              "<table border=\"1\" class=\"dataframe\">\n",
              "  <thead>\n",
              "    <tr style=\"text-align: right;\">\n",
              "      <th></th>\n",
              "      <th>amt</th>\n",
              "      <th>city_pop</th>\n",
              "      <th>lat</th>\n",
              "      <th>long</th>\n",
              "      <th>merch_lat</th>\n",
              "      <th>merch_long</th>\n",
              "    </tr>\n",
              "  </thead>\n",
              "  <tbody>\n",
              "    <tr>\n",
              "      <th>count</th>\n",
              "      <td>42831.000000</td>\n",
              "      <td>4.283000e+04</td>\n",
              "      <td>42831.000000</td>\n",
              "      <td>42831.000000</td>\n",
              "      <td>42830.000000</td>\n",
              "      <td>42830.000000</td>\n",
              "    </tr>\n",
              "    <tr>\n",
              "      <th>mean</th>\n",
              "      <td>71.563338</td>\n",
              "      <td>8.852743e+04</td>\n",
              "      <td>38.536225</td>\n",
              "      <td>-90.241386</td>\n",
              "      <td>38.536078</td>\n",
              "      <td>-90.247263</td>\n",
              "    </tr>\n",
              "    <tr>\n",
              "      <th>std</th>\n",
              "      <td>151.062206</td>\n",
              "      <td>2.977794e+05</td>\n",
              "      <td>5.091000</td>\n",
              "      <td>13.953112</td>\n",
              "      <td>5.121287</td>\n",
              "      <td>13.962830</td>\n",
              "    </tr>\n",
              "    <tr>\n",
              "      <th>min</th>\n",
              "      <td>1.000000</td>\n",
              "      <td>2.300000e+01</td>\n",
              "      <td>20.027100</td>\n",
              "      <td>-165.672300</td>\n",
              "      <td>19.040141</td>\n",
              "      <td>-166.629875</td>\n",
              "    </tr>\n",
              "    <tr>\n",
              "      <th>25%</th>\n",
              "      <td>9.690000</td>\n",
              "      <td>7.430000e+02</td>\n",
              "      <td>34.668900</td>\n",
              "      <td>-96.809400</td>\n",
              "      <td>34.785872</td>\n",
              "      <td>-96.940941</td>\n",
              "    </tr>\n",
              "    <tr>\n",
              "      <th>50%</th>\n",
              "      <td>47.970000</td>\n",
              "      <td>2.456000e+03</td>\n",
              "      <td>39.346500</td>\n",
              "      <td>-87.456900</td>\n",
              "      <td>39.348741</td>\n",
              "      <td>-87.366152</td>\n",
              "    </tr>\n",
              "    <tr>\n",
              "      <th>75%</th>\n",
              "      <td>83.680000</td>\n",
              "      <td>2.047800e+04</td>\n",
              "      <td>41.846700</td>\n",
              "      <td>-80.128400</td>\n",
              "      <td>41.924197</td>\n",
              "      <td>-80.174018</td>\n",
              "    </tr>\n",
              "    <tr>\n",
              "      <th>max</th>\n",
              "      <td>11872.210000</td>\n",
              "      <td>2.906700e+06</td>\n",
              "      <td>65.689900</td>\n",
              "      <td>-12.000000</td>\n",
              "      <td>66.659242</td>\n",
              "      <td>-66.967742</td>\n",
              "    </tr>\n",
              "  </tbody>\n",
              "</table>\n",
              "</div>\n",
              "    <div class=\"colab-df-buttons\">\n",
              "\n",
              "  <div class=\"colab-df-container\">\n",
              "    <button class=\"colab-df-convert\" onclick=\"convertToInteractive('df-d59a6a9e-73ff-416f-a842-31057c7065d3')\"\n",
              "            title=\"Convert this dataframe to an interactive table.\"\n",
              "            style=\"display:none;\">\n",
              "\n",
              "  <svg xmlns=\"http://www.w3.org/2000/svg\" height=\"24px\" viewBox=\"0 -960 960 960\">\n",
              "    <path d=\"M120-120v-720h720v720H120Zm60-500h600v-160H180v160Zm220 220h160v-160H400v160Zm0 220h160v-160H400v160ZM180-400h160v-160H180v160Zm440 0h160v-160H620v160ZM180-180h160v-160H180v160Zm440 0h160v-160H620v160Z\"/>\n",
              "  </svg>\n",
              "    </button>\n",
              "\n",
              "  <style>\n",
              "    .colab-df-container {\n",
              "      display:flex;\n",
              "      gap: 12px;\n",
              "    }\n",
              "\n",
              "    .colab-df-convert {\n",
              "      background-color: #E8F0FE;\n",
              "      border: none;\n",
              "      border-radius: 50%;\n",
              "      cursor: pointer;\n",
              "      display: none;\n",
              "      fill: #1967D2;\n",
              "      height: 32px;\n",
              "      padding: 0 0 0 0;\n",
              "      width: 32px;\n",
              "    }\n",
              "\n",
              "    .colab-df-convert:hover {\n",
              "      background-color: #E2EBFA;\n",
              "      box-shadow: 0px 1px 2px rgba(60, 64, 67, 0.3), 0px 1px 3px 1px rgba(60, 64, 67, 0.15);\n",
              "      fill: #174EA6;\n",
              "    }\n",
              "\n",
              "    .colab-df-buttons div {\n",
              "      margin-bottom: 4px;\n",
              "    }\n",
              "\n",
              "    [theme=dark] .colab-df-convert {\n",
              "      background-color: #3B4455;\n",
              "      fill: #D2E3FC;\n",
              "    }\n",
              "\n",
              "    [theme=dark] .colab-df-convert:hover {\n",
              "      background-color: #434B5C;\n",
              "      box-shadow: 0px 1px 3px 1px rgba(0, 0, 0, 0.15);\n",
              "      filter: drop-shadow(0px 1px 2px rgba(0, 0, 0, 0.3));\n",
              "      fill: #FFFFFF;\n",
              "    }\n",
              "  </style>\n",
              "\n",
              "    <script>\n",
              "      const buttonEl =\n",
              "        document.querySelector('#df-d59a6a9e-73ff-416f-a842-31057c7065d3 button.colab-df-convert');\n",
              "      buttonEl.style.display =\n",
              "        google.colab.kernel.accessAllowed ? 'block' : 'none';\n",
              "\n",
              "      async function convertToInteractive(key) {\n",
              "        const element = document.querySelector('#df-d59a6a9e-73ff-416f-a842-31057c7065d3');\n",
              "        const dataTable =\n",
              "          await google.colab.kernel.invokeFunction('convertToInteractive',\n",
              "                                                    [key], {});\n",
              "        if (!dataTable) return;\n",
              "\n",
              "        const docLinkHtml = 'Like what you see? Visit the ' +\n",
              "          '<a target=\"_blank\" href=https://colab.research.google.com/notebooks/data_table.ipynb>data table notebook</a>'\n",
              "          + ' to learn more about interactive tables.';\n",
              "        element.innerHTML = '';\n",
              "        dataTable['output_type'] = 'display_data';\n",
              "        await google.colab.output.renderOutput(dataTable, element);\n",
              "        const docLink = document.createElement('div');\n",
              "        docLink.innerHTML = docLinkHtml;\n",
              "        element.appendChild(docLink);\n",
              "      }\n",
              "    </script>\n",
              "  </div>\n",
              "\n",
              "\n",
              "    <div id=\"df-0889fe37-f556-4cc5-a5f9-13539c245f3f\">\n",
              "      <button class=\"colab-df-quickchart\" onclick=\"quickchart('df-0889fe37-f556-4cc5-a5f9-13539c245f3f')\"\n",
              "                title=\"Suggest charts\"\n",
              "                style=\"display:none;\">\n",
              "\n",
              "<svg xmlns=\"http://www.w3.org/2000/svg\" height=\"24px\"viewBox=\"0 0 24 24\"\n",
              "     width=\"24px\">\n",
              "    <g>\n",
              "        <path d=\"M19 3H5c-1.1 0-2 .9-2 2v14c0 1.1.9 2 2 2h14c1.1 0 2-.9 2-2V5c0-1.1-.9-2-2-2zM9 17H7v-7h2v7zm4 0h-2V7h2v10zm4 0h-2v-4h2v4z\"/>\n",
              "    </g>\n",
              "</svg>\n",
              "      </button>\n",
              "\n",
              "<style>\n",
              "  .colab-df-quickchart {\n",
              "      --bg-color: #E8F0FE;\n",
              "      --fill-color: #1967D2;\n",
              "      --hover-bg-color: #E2EBFA;\n",
              "      --hover-fill-color: #174EA6;\n",
              "      --disabled-fill-color: #AAA;\n",
              "      --disabled-bg-color: #DDD;\n",
              "  }\n",
              "\n",
              "  [theme=dark] .colab-df-quickchart {\n",
              "      --bg-color: #3B4455;\n",
              "      --fill-color: #D2E3FC;\n",
              "      --hover-bg-color: #434B5C;\n",
              "      --hover-fill-color: #FFFFFF;\n",
              "      --disabled-bg-color: #3B4455;\n",
              "      --disabled-fill-color: #666;\n",
              "  }\n",
              "\n",
              "  .colab-df-quickchart {\n",
              "    background-color: var(--bg-color);\n",
              "    border: none;\n",
              "    border-radius: 50%;\n",
              "    cursor: pointer;\n",
              "    display: none;\n",
              "    fill: var(--fill-color);\n",
              "    height: 32px;\n",
              "    padding: 0;\n",
              "    width: 32px;\n",
              "  }\n",
              "\n",
              "  .colab-df-quickchart:hover {\n",
              "    background-color: var(--hover-bg-color);\n",
              "    box-shadow: 0 1px 2px rgba(60, 64, 67, 0.3), 0 1px 3px 1px rgba(60, 64, 67, 0.15);\n",
              "    fill: var(--button-hover-fill-color);\n",
              "  }\n",
              "\n",
              "  .colab-df-quickchart-complete:disabled,\n",
              "  .colab-df-quickchart-complete:disabled:hover {\n",
              "    background-color: var(--disabled-bg-color);\n",
              "    fill: var(--disabled-fill-color);\n",
              "    box-shadow: none;\n",
              "  }\n",
              "\n",
              "  .colab-df-spinner {\n",
              "    border: 2px solid var(--fill-color);\n",
              "    border-color: transparent;\n",
              "    border-bottom-color: var(--fill-color);\n",
              "    animation:\n",
              "      spin 1s steps(1) infinite;\n",
              "  }\n",
              "\n",
              "  @keyframes spin {\n",
              "    0% {\n",
              "      border-color: transparent;\n",
              "      border-bottom-color: var(--fill-color);\n",
              "      border-left-color: var(--fill-color);\n",
              "    }\n",
              "    20% {\n",
              "      border-color: transparent;\n",
              "      border-left-color: var(--fill-color);\n",
              "      border-top-color: var(--fill-color);\n",
              "    }\n",
              "    30% {\n",
              "      border-color: transparent;\n",
              "      border-left-color: var(--fill-color);\n",
              "      border-top-color: var(--fill-color);\n",
              "      border-right-color: var(--fill-color);\n",
              "    }\n",
              "    40% {\n",
              "      border-color: transparent;\n",
              "      border-right-color: var(--fill-color);\n",
              "      border-top-color: var(--fill-color);\n",
              "    }\n",
              "    60% {\n",
              "      border-color: transparent;\n",
              "      border-right-color: var(--fill-color);\n",
              "    }\n",
              "    80% {\n",
              "      border-color: transparent;\n",
              "      border-right-color: var(--fill-color);\n",
              "      border-bottom-color: var(--fill-color);\n",
              "    }\n",
              "    90% {\n",
              "      border-color: transparent;\n",
              "      border-bottom-color: var(--fill-color);\n",
              "    }\n",
              "  }\n",
              "</style>\n",
              "\n",
              "      <script>\n",
              "        async function quickchart(key) {\n",
              "          const quickchartButtonEl =\n",
              "            document.querySelector('#' + key + ' button');\n",
              "          quickchartButtonEl.disabled = true;  // To prevent multiple clicks.\n",
              "          quickchartButtonEl.classList.add('colab-df-spinner');\n",
              "          try {\n",
              "            const charts = await google.colab.kernel.invokeFunction(\n",
              "                'suggestCharts', [key], {});\n",
              "          } catch (error) {\n",
              "            console.error('Error during call to suggestCharts:', error);\n",
              "          }\n",
              "          quickchartButtonEl.classList.remove('colab-df-spinner');\n",
              "          quickchartButtonEl.classList.add('colab-df-quickchart-complete');\n",
              "        }\n",
              "        (() => {\n",
              "          let quickchartButtonEl =\n",
              "            document.querySelector('#df-0889fe37-f556-4cc5-a5f9-13539c245f3f button');\n",
              "          quickchartButtonEl.style.display =\n",
              "            google.colab.kernel.accessAllowed ? 'block' : 'none';\n",
              "        })();\n",
              "      </script>\n",
              "    </div>\n",
              "\n",
              "    </div>\n",
              "  </div>\n"
            ],
            "application/vnd.google.colaboratory.intrinsic+json": {
              "type": "dataframe",
              "summary": "{\n  \"name\": \"train_df[num_cols]\",\n  \"rows\": 8,\n  \"fields\": [\n    {\n      \"column\": \"amt\",\n      \"properties\": {\n        \"dtype\": \"number\",\n        \"std\": 15101.64738421004,\n        \"min\": 1.0,\n        \"max\": 42831.0,\n        \"num_unique_values\": 8,\n        \"samples\": [\n          71.5633384697999,\n          47.97,\n          42831.0\n        ],\n        \"semantic_type\": \"\",\n        \"description\": \"\"\n      }\n    },\n    {\n      \"column\": \"city_pop\",\n      \"properties\": {\n        \"dtype\": \"number\",\n        \"std\": 1009728.6723450584,\n        \"min\": 23.0,\n        \"max\": 2906700.0,\n        \"num_unique_values\": 8,\n        \"samples\": [\n          88527.42745738968,\n          2456.0,\n          42830.0\n        ],\n        \"semantic_type\": \"\",\n        \"description\": \"\"\n      }\n    },\n    {\n      \"column\": \"lat\",\n      \"properties\": {\n        \"dtype\": \"number\",\n        \"std\": 15130.67058054651,\n        \"min\": 5.090999921947235,\n        \"max\": 42831.0,\n        \"num_unique_values\": 8,\n        \"samples\": [\n          38.536224540636454,\n          39.3465,\n          42831.0\n        ],\n        \"semantic_type\": \"\",\n        \"description\": \"\"\n      }\n    },\n    {\n      \"column\": \"long\",\n      \"properties\": {\n        \"dtype\": \"number\",\n        \"std\": 15169.324986739623,\n        \"min\": -165.6723,\n        \"max\": 42831.0,\n        \"num_unique_values\": 8,\n        \"samples\": [\n          -90.2413857649833,\n          -87.4569,\n          42831.0\n        ],\n        \"semantic_type\": \"\",\n        \"description\": \"\"\n      }\n    },\n    {\n      \"column\": \"merch_lat\",\n      \"properties\": {\n        \"dtype\": \"number\",\n        \"std\": 15130.306885137294,\n        \"min\": 5.121287006073997,\n        \"max\": 42830.0,\n        \"num_unique_values\": 8,\n        \"samples\": [\n          38.53607810368901,\n          39.348740500000005,\n          42830.0\n        ],\n        \"semantic_type\": \"\",\n        \"description\": \"\"\n      }\n    },\n    {\n      \"column\": \"merch_long\",\n      \"properties\": {\n        \"dtype\": \"number\",\n        \"std\": 15171.781100887578,\n        \"min\": -166.629875,\n        \"max\": 42830.0,\n        \"num_unique_values\": 8,\n        \"samples\": [\n          -90.24726278435676,\n          -87.3661525,\n          42830.0\n        ],\n        \"semantic_type\": \"\",\n        \"description\": \"\"\n      }\n    }\n  ]\n}"
            }
          },
          "metadata": {},
          "execution_count": 20
        }
      ]
    },
    {
      "cell_type": "code",
      "source": [
        "# Analyze categorical features\n",
        "cat_cols = ['category', 'gender', 'state', 'job']\n",
        "for col in cat_cols:\n",
        "    print(f\"\\n{col} distribution:\")\n",
        "    print(train_df[col].value_counts().head())"
      ],
      "metadata": {
        "colab": {
          "base_uri": "https://localhost:8080/"
        },
        "id": "Qj1AmXLRxtTU",
        "outputId": "63aa17c3-13b7-4551-99fe-c9ff43a84ec8"
      },
      "execution_count": 21,
      "outputs": [
        {
          "output_type": "stream",
          "name": "stdout",
          "text": [
            "\n",
            "category distribution:\n",
            "category\n",
            "gas_transport    4298\n",
            "home             4095\n",
            "grocery_pos      4069\n",
            "shopping_pos     3857\n",
            "kids_pets        3669\n",
            "Name: count, dtype: int64\n",
            "\n",
            "gender distribution:\n",
            "gender\n",
            "F    23373\n",
            "M    19458\n",
            "Name: count, dtype: int64\n",
            "\n",
            "state distribution:\n",
            "state\n",
            "TX    3095\n",
            "NY    2764\n",
            "PA    2590\n",
            "CA    1832\n",
            "MI    1549\n",
            "Name: count, dtype: int64\n",
            "\n",
            "job distribution:\n",
            "job\n",
            "Exhibition designer           306\n",
            "Surveyor, land/geomatics      293\n",
            "Film/video editor             293\n",
            "Systems developer             286\n",
            "Designer, ceramics/pottery    273\n",
            "Name: count, dtype: int64\n"
          ]
        }
      ]
    },
    {
      "cell_type": "markdown",
      "source": [
        "### **Data Validation**"
      ],
      "metadata": {
        "id": "BLRaN63M19MT"
      }
    },
    {
      "cell_type": "code",
      "source": [
        "def validate_data(df, dataset_name):\n",
        "    print(f\"\\n===== {dataset_name.upper()} DATA VALIDATION =====\")\n",
        "\n",
        "    # 1. Check target variable\n",
        "\n",
        "    ## Check for missing values\n",
        "    print(f\"Missing values in target: {df['is_fraud'].isnull().sum()}\")\n",
        "    ## Check for unique values\n",
        "    print(f\"Invalid target values: {df['is_fraud'].unique()}\")\n",
        "\n",
        "\n",
        "    # 2. Check critical numerical columns\n",
        "\n",
        "\n",
        "    num_cols = ['amt', 'lat', 'long', 'merch_lat', 'merch_long', 'city_pop']\n",
        "    for col in num_cols:\n",
        "        print(f\"{col} - Missing: {df[col].isnull().sum()}, Min: {df[col].min()}, Max: {df[col].max()}\")\n",
        "\n",
        "    # 3. Check categorical columns\n",
        "    cat_cols = ['category', 'gender', 'state']\n",
        "    for col in cat_cols:\n",
        "        print(f\"{col} unique values: {df[col].unique()}\")\n",
        "        print(f\"{col} missing: {df[col].isnull().sum()}\")\n",
        "\n",
        "validate_data(train_df, \"Training\")\n",
        "validate_data(test_df, \"Testing\")"
      ],
      "metadata": {
        "colab": {
          "base_uri": "https://localhost:8080/"
        },
        "id": "6fEcZPMYcF43",
        "outputId": "97609c8a-bb60-47c9-94d3-a34a5fe618ad"
      },
      "execution_count": 22,
      "outputs": [
        {
          "output_type": "stream",
          "name": "stdout",
          "text": [
            "\n",
            "===== TRAINING DATA VALIDATION =====\n",
            "Missing values in target: 1\n",
            "Invalid target values: [ 0.  1. nan]\n",
            "amt - Missing: 0, Min: 1.0, Max: 11872.21\n",
            "lat - Missing: 0, Min: 20.0271, Max: 65.6899\n",
            "long - Missing: 0, Min: -165.6723, Max: -12.0\n",
            "merch_lat - Missing: 1, Min: 19.040141, Max: 66.659242\n",
            "merch_long - Missing: 1, Min: -166.629875, Max: -66.967742\n",
            "city_pop - Missing: 1, Min: 23.0, Max: 2906700.0\n",
            "category unique values: ['misc_net' 'grocery_pos' 'entertainment' 'gas_transport' 'misc_pos'\n",
            " 'grocery_net' 'shopping_net' 'shopping_pos' 'food_dining' 'personal_care'\n",
            " 'health_fitness' 'travel' 'kids_pets' 'home']\n",
            "category missing: 0\n",
            "gender unique values: ['F' 'M']\n",
            "gender missing: 0\n",
            "state unique values: ['NC' 'WA' 'ID' 'MT' 'VA' 'PA' 'KS' 'TN' 'IA' 'WV' 'FL' 'CA' 'NM' 'NJ'\n",
            " 'OK' 'IN' 'MA' 'TX' 'WI' 'MI' 'WY' 'HI' 'NE' 'OR' 'LA' 'DC' 'KY' 'NY'\n",
            " 'MS' 'UT' 'AL' 'AR' 'MD' 'GA' 'ME' 'AZ' 'MN' 'OH' 'CO' 'VT' 'MO' 'SC'\n",
            " 'NV' 'IL' 'NH' 'SD' 'AK' 'ND' 'CT' 'RI']\n",
            "state missing: 0\n",
            "\n",
            "===== TESTING DATA VALIDATION =====\n",
            "Missing values in target: 1\n",
            "Invalid target values: [ 0.  1. nan]\n",
            "amt - Missing: 0, Min: 1.0, Max: 13149.15\n",
            "lat - Missing: 0, Min: 20.0271, Max: 65.6899\n",
            "long - Missing: 0, Min: -165.6723, Max: -67.9503\n",
            "merch_lat - Missing: 1, Min: 19.057104, Max: 66.66935600000001\n",
            "merch_long - Missing: 1, Min: -166.646251, Max: -66.955602\n",
            "city_pop - Missing: 0, Min: 23, Max: 2906700\n",
            "category unique values: ['personal_care' 'health_fitness' 'misc_pos' 'travel' 'kids_pets'\n",
            " 'shopping_pos' 'food_dining' 'home' 'entertainment' 'shopping_net'\n",
            " 'misc_net' 'grocery_pos' 'gas_transport' 'grocery_net']\n",
            "category missing: 0\n",
            "gender unique values: ['M' 'F']\n",
            "gender missing: 0\n",
            "state unique values: ['SC' 'UT' 'NY' 'FL' 'MI' 'CA' 'SD' 'PA' 'TX' 'KY' 'WY' 'AL' 'LA' 'GA'\n",
            " 'CO' 'OH' 'WI' 'VT' 'AR' 'NJ' 'IA' 'MD' 'MS' 'KS' 'IL' 'MO' 'ME' 'TN'\n",
            " 'DC' 'AZ' 'MT' 'MN' 'OK' 'WA' 'WV' 'NM' 'MA' 'NE' 'VA' 'ID' 'OR' 'IN'\n",
            " 'NC' 'NH' 'ND' 'CT' 'NV' 'HI' 'RI' 'AK']\n",
            "state missing: 0\n"
          ]
        }
      ]
    },
    {
      "cell_type": "markdown",
      "source": [
        "### **Data Cleaning**"
      ],
      "metadata": {
        "id": "euhJ-rkdxx0D"
      }
    },
    {
      "cell_type": "code",
      "source": [
        "# Drop unnecessary columns\n",
        "cols_to_drop = ['Unnamed: 0', 'trans_num', 'first', 'last', 'street', 'city', 'zip', 'dob', 'merchant']\n",
        "train_df_clean = train_df.drop(columns=cols_to_drop)\n",
        "test_df_clean = test_df.drop(columns=cols_to_drop)"
      ],
      "metadata": {
        "id": "I-8Q04hRsZiX"
      },
      "execution_count": 23,
      "outputs": []
    },
    {
      "cell_type": "code",
      "source": [
        "# Convert transaction datetime\n",
        "def extract_time_features(df):\n",
        "    df['trans_date_trans_time'] = pd.to_datetime(df['trans_date_trans_time'])\n",
        "    df['hour'] = df['trans_date_trans_time'].dt.hour\n",
        "    df['day_of_week'] = df['trans_date_trans_time'].dt.dayofweek\n",
        "    df['month'] = df['trans_date_trans_time'].dt.month\n",
        "    return df.drop(columns=['trans_date_trans_time'])\n",
        "\n",
        "train_df_clean = extract_time_features(train_df_clean)\n",
        "test_df_clean = extract_time_features(test_df_clean)"
      ],
      "metadata": {
        "id": "_jQanMlkx3v_"
      },
      "execution_count": 24,
      "outputs": []
    },
    {
      "cell_type": "code",
      "source": [
        "# Calculate distance from home to merchant\n",
        "train_df_clean['distance'] = np.sqrt(\n",
        "    (train_df_clean['lat'] - train_df_clean['merch_lat'])**2 +\n",
        "    (train_df_clean['long'] - train_df_clean['merch_long'])**2\n",
        ")\n",
        "\n",
        "test_df_clean['distance'] = np.sqrt(\n",
        "    (test_df_clean['lat'] - test_df_clean['merch_lat'])**2 +\n",
        "    (test_df_clean['long'] - test_df_clean['merch_long'])**2\n",
        ")"
      ],
      "metadata": {
        "id": "voCEfXlDx6ky"
      },
      "execution_count": 25,
      "outputs": []
    },
    {
      "cell_type": "code",
      "source": [
        "# Drop original coordinate columns\n",
        "coord_cols = ['lat', 'long', 'merch_lat', 'merch_long']\n",
        "train_df_clean = train_df_clean.drop(columns=coord_cols)\n",
        "test_df_clean = test_df_clean.drop(columns=coord_cols)"
      ],
      "metadata": {
        "id": "EhGohT9Bx-Aq"
      },
      "execution_count": 26,
      "outputs": []
    },
    {
      "cell_type": "code",
      "source": [
        "# Encode categorical variables\n",
        "categorical_cols = ['category', 'gender', 'state', 'job']\n",
        "numerical_cols = ['amt', 'city_pop', 'hour', 'day_of_week', 'month', 'distance', 'unix_time']"
      ],
      "metadata": {
        "id": "TO0ZO2styBm_"
      },
      "execution_count": 27,
      "outputs": []
    },
    {
      "cell_type": "code",
      "source": [
        "# Preprocessing pipeline\n",
        "preprocessor = ColumnTransformer(\n",
        "    transformers=[\n",
        "        ('num', StandardScaler(), numerical_cols),\n",
        "        ('cat', OneHotEncoder(handle_unknown='ignore', sparse_output=False), categorical_cols)\n",
        "    ])"
      ],
      "metadata": {
        "id": "9qG5A1f5yDy9"
      },
      "execution_count": 28,
      "outputs": []
    },
    {
      "cell_type": "code",
      "source": [
        "def clean_data(df):\n",
        "    # Create copy to avoid SettingWithCopyWarning\n",
        "    df_clean = df.copy()\n",
        "\n",
        "    # 1. Handle missing/invalid target values\n",
        "    df_clean = df_clean.dropna(subset=['is_fraud'])\n",
        "    df_clean['is_fraud'] = df_clean['is_fraud'].astype(int)\n",
        "\n",
        "    # 2. Drop unnecessary columns\n",
        "    cols_to_drop = ['Unnamed: 0', 'trans_num', 'first', 'last', 'street', 'city', 'zip', 'dob', 'merchant']\n",
        "    df_clean = df_clean.drop(columns=[c for c in cols_to_drop if c in df_clean.columns])\n",
        "\n",
        "    # 3. Convert and validate transaction datetime\n",
        "    df_clean['trans_date_trans_time'] = pd.to_datetime(\n",
        "        df_clean['trans_date_trans_time'],\n",
        "        errors='coerce',\n",
        "        format='mixed'\n",
        "    )\n",
        "\n",
        "    # Handle invalid dates\n",
        "    invalid_dates = df_clean['trans_date_trans_time'].isnull()\n",
        "    if invalid_dates.any():\n",
        "        print(f\"Warning: {invalid_dates.sum()} rows with invalid dates removed\")\n",
        "        df_clean = df_clean[~invalid_dates]\n",
        "\n",
        "    # 4. Create time features\n",
        "    df_clean['hour'] = df_clean['trans_date_trans_time'].dt.hour\n",
        "    df_clean['day_of_week'] = df_clean['trans_date_trans_time'].dt.dayofweek\n",
        "    df_clean['month'] = df_clean['trans_date_trans_time'].dt.month\n",
        "    df_clean = df_clean.drop(columns=['trans_date_trans_time'])\n",
        "\n",
        "    # 5. Validate and clean numerical features\n",
        "    num_cols = ['amt', 'lat', 'long', 'merch_lat', 'merch_long', 'city_pop', 'unix_time']\n",
        "    for col in num_cols:\n",
        "        # Convert to numeric and handle non-numeric values\n",
        "        df_clean[col] = pd.to_numeric(df_clean[col], errors='coerce')\n",
        "\n",
        "        # Handle negative amounts\n",
        "        if col == 'amt':\n",
        "            df_clean.loc[df_clean[col] < 0, col] = np.nan\n",
        "\n",
        "        # Handle impossible coordinates\n",
        "        coord_cols = ['lat', 'long', 'merch_lat', 'merch_long']\n",
        "        if col in coord_cols:\n",
        "            df_clean.loc[(df_clean[col] < -90) | (df_clean[col] > 90), col] = np.nan\n",
        "\n",
        "    # 6. Create distance feature with validation\n",
        "    df_clean['distance'] = np.sqrt(\n",
        "        (df_clean['lat'] - df_clean['merch_lat'])**2 +\n",
        "        (df_clean['long'] - df_clean['merch_long'])**2\n",
        "    )\n",
        "\n",
        "    # Handle invalid distances\n",
        "    df_clean.loc[df_clean['distance'].isnull(), 'distance'] = df_clean['distance'].median()\n",
        "\n",
        "    # 7. Drop original coordinate columns\n",
        "    coord_cols = ['lat', 'long', 'merch_lat', 'merch_long']\n",
        "    df_clean = df_clean.drop(columns=coord_cols)\n",
        "\n",
        "    # 8. Clean categorical features\n",
        "    df_clean['gender'] = df_clean['gender'].str.upper().map({'M': 'M', 'F': 'F'}).fillna('U')\n",
        "    df_clean['state'] = df_clean['state'].str.upper().str.strip().fillna('UNKNOWN')\n",
        "\n",
        "    # 9. Final NaN handling - drop any remaining rows with NaNs\n",
        "    initial_count = len(df_clean)\n",
        "    df_clean = df_clean.dropna()\n",
        "    final_count = len(df_clean)\n",
        "    print(f\"Rows removed due to NaNs: {initial_count - final_count}\")\n",
        "\n",
        "    return df_clean\n",
        "\n",
        "print(\"\\n===== CLEANING TRAINING DATA =====\")\n",
        "train_df_clean = clean_data(train_df)\n",
        "print(\"\\n===== CLEANING TESTING DATA =====\")\n",
        "test_df_clean = clean_data(test_df)"
      ],
      "metadata": {
        "colab": {
          "base_uri": "https://localhost:8080/"
        },
        "id": "Zpb_6KA5fMFt",
        "outputId": "b858a95e-7cef-4437-b9c2-7bb43f3e2f61"
      },
      "execution_count": 29,
      "outputs": [
        {
          "output_type": "stream",
          "name": "stdout",
          "text": [
            "\n",
            "===== CLEANING TRAINING DATA =====\n",
            "Rows removed due to NaNs: 0\n",
            "\n",
            "===== CLEANING TESTING DATA =====\n",
            "Rows removed due to NaNs: 0\n"
          ]
        }
      ]
    },
    {
      "cell_type": "markdown",
      "source": [
        "### **Feature Engineering**"
      ],
      "metadata": {
        "id": "_6fyCe61fthQ"
      }
    },
    {
      "cell_type": "code",
      "source": [
        "# 1. Transaction frequency features\n",
        "train_df_clean['trans_count'] = train_df_clean.groupby('cc_num')['cc_num'].transform('count')\n",
        "test_df_clean['trans_count'] = test_df_clean.groupby('cc_num')['cc_num'].transform('count')"
      ],
      "metadata": {
        "id": "ETYxQlpHfxBI"
      },
      "execution_count": 30,
      "outputs": []
    },
    {
      "cell_type": "code",
      "source": [
        "# 2. Time since last transaction\n",
        "train_df_clean = train_df_clean.sort_values(['cc_num', 'unix_time'])\n",
        "train_df_clean['time_since_last'] = train_df_clean.groupby('cc_num')['unix_time'].diff()\n",
        "test_df_clean = test_df_clean.sort_values(['cc_num', 'unix_time'])\n",
        "test_df_clean['time_since_last'] = test_df_clean.groupby('cc_num')['unix_time'].diff()\n",
        "\n",
        "# Fill first transactions with median\n",
        "train_median = train_df_clean['time_since_last'].median()\n",
        "test_median = test_df_clean['time_since_last'].median()\n",
        "train_df_clean['time_since_last'].fillna(train_median, inplace=True)\n",
        "test_df_clean['time_since_last'].fillna(test_median, inplace=True)"
      ],
      "metadata": {
        "id": "wvujJArTfwx_"
      },
      "execution_count": 31,
      "outputs": []
    },
    {
      "cell_type": "code",
      "source": [
        "# 3. Transaction velocity (transactions per hour)\n",
        "train_df_clean['trans_velocity'] = 3600 / train_df_clean['time_since_last']\n",
        "test_df_clean['trans_velocity'] = 3600 / test_df_clean['time_since_last']\n",
        "\n",
        "# Cap extreme values\n",
        "velocity_cap = train_df_clean['trans_velocity'].quantile(0.99)\n",
        "train_df_clean['trans_velocity'] = np.where(\n",
        "    train_df_clean['trans_velocity'] > velocity_cap,\n",
        "    velocity_cap,\n",
        "    train_df_clean['trans_velocity']\n",
        ")\n",
        "test_df_clean['trans_velocity'] = np.where(\n",
        "    test_df_clean['trans_velocity'] > velocity_cap,\n",
        "    velocity_cap,\n",
        "    test_df_clean['trans_velocity']\n",
        ")"
      ],
      "metadata": {
        "id": "hfXD-7Wif5Yl"
      },
      "execution_count": 32,
      "outputs": []
    },
    {
      "cell_type": "markdown",
      "source": [
        "### **Handling Class Imbalance**"
      ],
      "metadata": {
        "id": "ULVl6CiryJAw"
      }
    },
    {
      "cell_type": "code",
      "source": [
        "# Split features and target\n",
        "X_train = train_df_clean.drop(columns=['is_fraud', 'cc_num'])\n",
        "y_train = train_df_clean['is_fraud']\n",
        "X_test = test_df_clean.drop(columns=['is_fraud', 'cc_num'])\n",
        "y_test = test_df_clean['is_fraud']"
      ],
      "metadata": {
        "id": "Gua_c3uVyG1p"
      },
      "execution_count": 33,
      "outputs": []
    },
    {
      "cell_type": "code",
      "source": [
        "# Define preprocessing\n",
        "categorical_cols = ['category', 'gender', 'state', 'job']\n",
        "numerical_cols = ['amt', 'city_pop', 'hour', 'day_of_week', 'month', 'distance',\n",
        "                 'unix_time', 'trans_count', 'time_since_last', 'trans_velocity']\n",
        "\n",
        "preprocessor = ColumnTransformer(\n",
        "    transformers=[\n",
        "        ('num', StandardScaler(), numerical_cols),\n",
        "        ('cat', OneHotEncoder(handle_unknown='ignore', sparse_output=False), categorical_cols)\n",
        "    ])"
      ],
      "metadata": {
        "id": "EO0A0U7sgFe1"
      },
      "execution_count": 34,
      "outputs": []
    },
    {
      "cell_type": "code",
      "source": [
        "# Preprocess training data without SMOTE first\n",
        "X_train_preprocessed = preprocessor.fit_transform(X_train)"
      ],
      "metadata": {
        "id": "s2-RBT41gHDb"
      },
      "execution_count": 35,
      "outputs": []
    },
    {
      "cell_type": "code",
      "source": [
        "# Verify no NaNs in target\n",
        "print(\"\\n===== TARGET VALIDATION =====\")\n",
        "print(f\"Training target NaN count: {y_train.isnull().sum()}\")\n",
        "print(f\"Test target NaN count: {y_test.isnull().sum()}\")"
      ],
      "metadata": {
        "colab": {
          "base_uri": "https://localhost:8080/"
        },
        "id": "q7JNFvKZgKXn",
        "outputId": "ae76dee4-09ff-49de-d497-5b9ba22369c7"
      },
      "execution_count": 36,
      "outputs": [
        {
          "output_type": "stream",
          "name": "stdout",
          "text": [
            "\n",
            "===== TARGET VALIDATION =====\n",
            "Training target NaN count: 0\n",
            "Test target NaN count: 0\n"
          ]
        }
      ]
    },
    {
      "cell_type": "code",
      "source": [
        "# Apply SMOTE for oversampling minority class\n",
        "if y_train.isnull().sum() == 0:\n",
        "    print(\"\\n===== APPLYING SMOTE =====\")\n",
        "    smote = SMOTE(sampling_strategy=0.3, random_state=42, k_neighbors=5)\n",
        "    X_res, y_res = smote.fit_resample(X_train_preprocessed, y_train)\n",
        "    print(f\"Resampled class distribution: \\n{pd.Series(y_res).value_counts()}\")\n",
        "else:\n",
        "    print(\"\\n===== SKIPPING SMOTE DUE TO NaNs IN TARGET =====\")\n",
        "    X_res, y_res = X_train_preprocessed, y_train"
      ],
      "metadata": {
        "colab": {
          "base_uri": "https://localhost:8080/"
        },
        "id": "p31usON7yShd",
        "outputId": "256397a7-6414-467d-e41a-9160670400b2"
      },
      "execution_count": 37,
      "outputs": [
        {
          "output_type": "stream",
          "name": "stdout",
          "text": [
            "\n",
            "===== APPLYING SMOTE =====\n",
            "Resampled class distribution: \n",
            "is_fraud\n",
            "0    42433\n",
            "1    12729\n",
            "Name: count, dtype: int64\n"
          ]
        }
      ]
    },
    {
      "cell_type": "markdown",
      "source": [
        "### **Model Training**"
      ],
      "metadata": {
        "id": "vNjFP5ul0UX-"
      }
    },
    {
      "cell_type": "code",
      "source": [
        "# Preprocess test data\n",
        "X_test_processed = preprocessor.transform(X_test)"
      ],
      "metadata": {
        "id": "_UTtBx1BggK1"
      },
      "execution_count": 38,
      "outputs": []
    },
    {
      "cell_type": "code",
      "source": [
        "# Initialize models\n",
        "rf_model = RandomForestClassifier(\n",
        "    class_weight='balanced_subsample',\n",
        "    n_jobs=-1,\n",
        "    random_state=42\n",
        ")\n",
        "\n",
        "xgb_model = XGBClassifier(\n",
        "    scale_pos_weight=len(y_train[y_train==0])/len(y_train[y_train==1]),\n",
        "    eval_metric='auc',\n",
        "    random_state=42,\n",
        "    use_label_encoder=False\n",
        ")"
      ],
      "metadata": {
        "id": "5tBw48r7zXu8"
      },
      "execution_count": 39,
      "outputs": []
    },
    {
      "cell_type": "code",
      "source": [
        "# Hyperparameter tuning for Random Forest\n",
        "rf_params = {\n",
        "    'n_estimators': [100, 200, 300],\n",
        "    'max_depth': [10, 20, 30, None],\n",
        "    'min_samples_split': [2, 5, 10],\n",
        "    'min_samples_leaf': [1, 2, 4]\n",
        "}\n",
        "\n",
        "rf_search = RandomizedSearchCV(\n",
        "    rf_model,\n",
        "    rf_params,\n",
        "    n_iter=10,\n",
        "    scoring='roc_auc',\n",
        "    cv=3,\n",
        "    n_jobs=-1,\n",
        "    random_state=42\n",
        ")\n",
        "\n",
        "rf_search.fit(X_res, y_res)\n",
        "best_rf = rf_search.best_estimator_\n",
        "print(\"\\nRandom Forest Best Parameters:\", rf_search.best_params_)\n"
      ],
      "metadata": {
        "colab": {
          "base_uri": "https://localhost:8080/"
        },
        "id": "TCl6K4cp0aYz",
        "outputId": "b2d157c9-b971-4aa5-80fe-a2aff2559692"
      },
      "execution_count": 40,
      "outputs": [
        {
          "output_type": "stream",
          "name": "stdout",
          "text": [
            "\n",
            "Random Forest Best Parameters: {'n_estimators': 300, 'min_samples_split': 10, 'min_samples_leaf': 1, 'max_depth': 30}\n"
          ]
        }
      ]
    },
    {
      "cell_type": "code",
      "source": [
        "# Hyperparameter tuning for XGBoost\n",
        "xgb_params = {\n",
        "    'n_estimators': [100, 200],\n",
        "    'max_depth': [3, 6, 9],\n",
        "    'learning_rate': [0.01, 0.1, 0.2],\n",
        "    'subsample': [0.6, 0.8, 1.0],\n",
        "    'colsample_bytree': [0.6, 0.8, 1.0]\n",
        "}\n",
        "\n",
        "xgb_search = RandomizedSearchCV(\n",
        "    xgb_model,\n",
        "    xgb_params,\n",
        "    n_iter=10,\n",
        "    scoring='roc_auc',\n",
        "    cv=3,\n",
        "    n_jobs=-1,\n",
        "    random_state=42\n",
        ")\n",
        "\n",
        "xgb_search.fit(X_res, y_res)\n",
        "best_xgb = xgb_search.best_estimator_\n",
        "print(\"\\nXGBoost Best Parameters:\", xgb_search.best_params_)\n"
      ],
      "metadata": {
        "colab": {
          "base_uri": "https://localhost:8080/"
        },
        "id": "ZW0eRRbL0iDC",
        "outputId": "c099e80a-00cd-4840-910a-42b5de094c6c"
      },
      "execution_count": 41,
      "outputs": [
        {
          "output_type": "stream",
          "name": "stdout",
          "text": [
            "\n",
            "XGBoost Best Parameters: {'subsample': 0.6, 'n_estimators': 200, 'max_depth': 9, 'learning_rate': 0.2, 'colsample_bytree': 0.6}\n"
          ]
        }
      ]
    },
    {
      "cell_type": "markdown",
      "source": [
        "### **Model Evaluation**"
      ],
      "metadata": {
        "id": "9zBbRRIDg9-x"
      }
    },
    {
      "cell_type": "code",
      "source": [
        "def evaluate_model(name, model, X_test, y_test):\n",
        "    print(f\"\\n===== {name.upper()} EVALUATION =====\")\n",
        "\n",
        "    # Predict probabilities\n",
        "    y_pred_proba = model.predict_proba(X_test)[:, 1]\n",
        "\n",
        "    # Calculate ROC-AUC\n",
        "    roc_auc = roc_auc_score(y_test, y_pred_proba)\n",
        "    print(f\"ROC-AUC Score: {roc_auc:.4f}\")\n",
        "\n",
        "    # Plot ROC curve\n",
        "    fpr, tpr, _ = roc_curve(y_test, y_pred_proba)\n",
        "    plt.figure(figsize=(8, 6))\n",
        "    plt.plot(fpr, tpr, color='darkorange', lw=2,\n",
        "             label=f'ROC curve (AUC = {roc_auc:.2f})')\n",
        "    plt.plot([0, 1], [0, 1], color='navy', lw=2, linestyle='--')\n",
        "    plt.xlim([0.0, 1.0])\n",
        "    plt.ylim([0.0, 1.05])\n",
        "    plt.xlabel('False Positive Rate')\n",
        "    plt.ylabel('True Positive Rate')\n",
        "    plt.title(f'{name} - Receiver Operating Characteristic')\n",
        "    plt.legend(loc=\"lower right\")\n",
        "    plt.show()\n",
        "\n",
        "    # Plot precision-recall curve\n",
        "    from sklearn.metrics import precision_recall_curve, average_precision_score\n",
        "    precision, recall, _ = precision_recall_curve(y_test, y_pred_proba)\n",
        "    avg_precision = average_precision_score(y_test, y_pred_proba)\n",
        "\n",
        "    plt.figure(figsize=(8, 6))\n",
        "    plt.step(recall, precision, where='post')\n",
        "    plt.xlabel('Recall')\n",
        "    plt.ylabel('Precision')\n",
        "    plt.ylim([0.0, 1.05])\n",
        "    plt.xlim([0.0, 1.0])\n",
        "    plt.title(f'{name} - Precision-Recall Curve (AP={avg_precision:.2f})')\n",
        "    plt.show()\n",
        "\n",
        "    # Calculate metrics at optimal threshold\n",
        "    from sklearn.metrics import precision_score, recall_score, f1_score\n",
        "    optimal_idx = np.argmax(tpr - fpr)\n",
        "    optimal_threshold = _[optimal_idx]\n",
        "    y_pred = (y_pred_proba >= optimal_threshold).astype(int)\n",
        "\n",
        "    print(\"\\nClassification Report at Optimal Threshold:\")\n",
        "    print(classification_report(y_test, y_pred, target_names=['Legitimate', 'Fraud']))\n",
        "\n",
        "    # Confusion matrix\n",
        "    cm = confusion_matrix(y_test, y_pred)\n",
        "    plt.figure(figsize=(6, 6))\n",
        "    sns.heatmap(cm, annot=True, fmt='d', cmap='Blues',\n",
        "                xticklabels=['Legitimate', 'Fraud'],\n",
        "                yticklabels=['Legitimate', 'Fraud'])\n",
        "    plt.xlabel('Predicted')\n",
        "    plt.ylabel('Actual')\n",
        "    plt.title(f'{name} - Confusion Matrix')\n",
        "    plt.show()\n",
        "\n",
        "    # Fraud detection metrics\n",
        "    fraud_caught = cm[1, 1]\n",
        "    total_fraud = cm[1, :].sum()\n",
        "    false_positives = cm[0, 1]\n",
        "    total_legit = cm[0, :].sum()\n",
        "\n",
        "    print(f\"Fraud Detection Rate: {fraud_caught/total_fraud:.2%}\")\n",
        "    print(f\"False Positive Rate: {false_positives/total_legit:.2%}\")\n",
        "    print(f\"Precision on Fraud Cases: {precision_score(y_test, y_pred, pos_label=1):.2%}\")\n",
        "\n",
        "    return roc_auc\n"
      ],
      "metadata": {
        "id": "xKQNpx9lg8rl"
      },
      "execution_count": 42,
      "outputs": []
    },
    {
      "cell_type": "code",
      "source": [
        "# Evaluate models\n",
        "rf_auc = evaluate_model(\"Random Forest\", best_rf, X_test_processed, y_test)\n",
        "xgb_auc = evaluate_model(\"XGBoost\", best_xgb, X_test_processed, y_test)"
      ],
      "metadata": {
        "colab": {
          "base_uri": "https://localhost:8080/",
          "height": 1000
        },
        "id": "FkDLkahdhItF",
        "outputId": "66458f75-3b06-4c7c-aaec-7ef659ad30d4"
      },
      "execution_count": 43,
      "outputs": [
        {
          "output_type": "stream",
          "name": "stdout",
          "text": [
            "\n",
            "===== RANDOM FOREST EVALUATION =====\n",
            "ROC-AUC Score: 0.9575\n"
          ]
        },
        {
          "output_type": "display_data",
          "data": {
            "text/plain": [
              "<Figure size 800x600 with 1 Axes>"
            ],
            "image/png": "[encoded data removed]"
          },
          "metadata": {}
        },
        {
          "output_type": "display_data",
          "data": {
            "text/plain": [
              "<Figure size 800x600 with 1 Axes>"
            ],
            "image/png": "[encoded data removed]"
          },
          "metadata": {}
        },
        {
          "output_type": "stream",
          "name": "stdout",
          "text": [
            "\n",
            "Classification Report at Optimal Threshold:\n",
            "              precision    recall  f1-score   support\n",
            "\n",
            "  Legitimate       1.00      0.00      0.01     42598\n",
            "       Fraud       0.00      1.00      0.01       184\n",
            "\n",
            "    accuracy                           0.01     42782\n",
            "   macro avg       0.50      0.50      0.01     42782\n",
            "weighted avg       1.00      0.01      0.01     42782\n",
            "\n"
          ]
        },
        {
          "output_type": "display_data",
          "data": {
            "text/plain": [
              "<Figure size 600x600 with 2 Axes>"
            ],
            "image/png": "[encoded data removed]"
          },
          "metadata": {}
        },
        {
          "output_type": "stream",
          "name": "stdout",
          "text": [
            "Fraud Detection Rate: 100.00%\n",
            "False Positive Rate: 99.61%\n",
            "Precision on Fraud Cases: 0.43%\n",
            "\n",
            "===== XGBOOST EVALUATION =====\n",
            "ROC-AUC Score: 0.9731\n"
          ]
        },
        {
          "output_type": "display_data",
          "data": {
            "text/plain": [
              "<Figure size 800x600 with 1 Axes>"
            ],
            "image/png": "[encoded data removed]"
          },
          "metadata": {}
        },
        {
          "output_type": "display_data",
          "data": {
            "text/plain": [
              "<Figure size 800x600 with 1 Axes>"
            ],
            "image/png": "[encoded data removed]"
          },
          "metadata": {}
        },
        {
          "output_type": "stream",
          "name": "stdout",
          "text": [
            "\n",
            "Classification Report at Optimal Threshold:\n",
            "              precision    recall  f1-score   support\n",
            "\n",
            "  Legitimate       1.00      0.00      0.01     42598\n",
            "       Fraud       0.00      1.00      0.01       184\n",
            "\n",
            "    accuracy                           0.01     42782\n",
            "   macro avg       0.50      0.50      0.01     42782\n",
            "weighted avg       1.00      0.01      0.01     42782\n",
            "\n"
          ]
        },
        {
          "output_type": "display_data",
          "data": {
            "text/plain": [
              "<Figure size 600x600 with 2 Axes>"
            ],
            "image/png": "[encoded data removed]"
          },
          "metadata": {}
        },
        {
          "output_type": "stream",
          "name": "stdout",
          "text": [
            "Fraud Detection Rate: 100.00%\n",
            "False Positive Rate: 99.63%\n",
            "Precision on Fraud Cases: 0.43%\n"
          ]
        }
      ]
    },
    {
      "cell_type": "markdown",
      "source": [
        "### **Feature Importance**"
      ],
      "metadata": {
        "id": "m_7S2WShhXPw"
      }
    },
    {
      "cell_type": "code",
      "source": [
        "def plot_feature_importance(model, feature_names, title):\n",
        "    importances = model.feature_importances_\n",
        "    indices = np.argsort(importances)[::-1][:20]\n",
        "\n",
        "    plt.figure(figsize=(12, 8))\n",
        "    plt.title(f\"Top 20 Features - {title}\")\n",
        "    plt.barh(range(len(indices)), importances[indices][::-1], align='center')\n",
        "    plt.yticks(range(len(indices)), [feature_names[i] for i in indices[::-1]])\n",
        "    plt.xlabel('Relative Importance')\n",
        "    plt.tight_layout()\n",
        "    plt.show()"
      ],
      "metadata": {
        "id": "koKwx5syhUto"
      },
      "execution_count": 44,
      "outputs": []
    },
    {
      "cell_type": "code",
      "source": [
        "# Get feature names\n",
        "cat_encoder = preprocessor.named_transformers_['cat']\n",
        "cat_features = cat_encoder.get_feature_names_out(categorical_cols)\n",
        "all_features = np.concatenate([numerical_cols, cat_features])"
      ],
      "metadata": {
        "id": "kfSYJV6VhcK2"
      },
      "execution_count": 45,
      "outputs": []
    },
    {
      "cell_type": "code",
      "source": [
        "# Plot importances\n",
        "plot_feature_importance(best_rf, all_features, \"Random Forest\")\n",
        "plot_feature_importance(best_xgb, all_features, \"XGBoost\")"
      ],
      "metadata": {
        "colab": {
          "base_uri": "https://localhost:8080/",
          "height": 1000
        },
        "id": "e-tR_NybheaS",
        "outputId": "9b0abb1c-1e55-495f-f7db-745fc337ba19"
      },
      "execution_count": 46,
      "outputs": [
        {
          "output_type": "display_data",
          "data": {
            "text/plain": [
              "<Figure size 1200x800 with 1 Axes>"
            ],
            "image/png": "[encoded data removed]"
          },
          "metadata": {}
        },
        {
          "output_type": "display_data",
          "data": {
            "text/plain": [
              "<Figure size 1200x800 with 1 Axes>"
            ],
            "image/png": "[encoded data removed]"
          },
          "metadata": {}
        }
      ]
    },
    {
      "cell_type": "markdown",
      "source": [
        "### **Model Persistence**"
      ],
      "metadata": {
        "id": "ATTEcsMghiIp"
      }
    },
    {
      "cell_type": "code",
      "source": [
        "# Saving the best model\n",
        "if rf_auc > xgb_auc:\n",
        "    best_model = best_rf\n",
        "    print(f\"\\nSaving Random Forest model with ROC-AUC: {rf_auc:.4f}\")\n",
        "else:\n",
        "    best_model = best_xgb\n",
        "    print(f\"\\nSaving XGBoost model with ROC-AUC: {xgb_auc:.4f}\")\n",
        "\n",
        "joblib.dump(best_model, 'fraud_detection_model.pkl')\n",
        "joblib.dump(preprocessor, 'preprocessor.pkl')\n",
        "\n",
        "print(\"\\n===== TRAINING COMPLETE =====\")"
      ],
      "metadata": {
        "colab": {
          "base_uri": "https://localhost:8080/"
        },
        "id": "MddLqcCRhg6b",
        "outputId": "7e47174a-f6e7-4b86-cbe1-ec2a95e626f1"
      },
      "execution_count": 47,
      "outputs": [
        {
          "output_type": "stream",
          "name": "stdout",
          "text": [
            "\n",
            "Saving XGBoost model with ROC-AUC: 0.9731\n",
            "\n",
            "===== TRAINING COMPLETE =====\n"
          ]
        }
      ]
    },
    {
      "cell_type": "code",
      "source": [],
      "metadata": {
        "id": "IHSZoT8Cho87"
      },
      "execution_count": null,
      "outputs": []
    }
  ]
}